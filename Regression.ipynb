{
  "nbformat": 4,
  "nbformat_minor": 0,
  "metadata": {
    "colab": {
      "name": "Regression.ipynb",
      "provenance": [],
      "collapsed_sections": [],
      "toc_visible": true,
      "authorship_tag": "ABX9TyOlEWRvUoSN5obuV9sDD4eu",
      "include_colab_link": true
    },
    "kernelspec": {
      "name": "python3",
      "display_name": "Python 3"
    },
    "language_info": {
      "name": "python"
    }
  },
  "cells": [
    {
      "cell_type": "markdown",
      "metadata": {
        "id": "view-in-github",
        "colab_type": "text"
      },
      "source": [
        "<a href=\"https://colab.research.google.com/github/34-anish/Python/blob/master/Regression.ipynb\" target=\"_parent\"><img src=\"https://colab.research.google.com/assets/colab-badge.svg\" alt=\"Open In Colab\"/></a>"
      ]
    },
    {
      "cell_type": "code",
      "metadata": {
        "id": "aYiRAjNuDuD8"
      },
      "source": [
        "import numpy as np\n",
        "import pandas as pd\n",
        "import matplotlib.pyplot as plt\n"
      ],
      "execution_count": null,
      "outputs": []
    },
    {
      "cell_type": "code",
      "metadata": {
        "id": "68Xy1waJoxbl"
      },
      "source": [
        "float_formatter = \"{:.2f}\".format\n",
        "np.set_printoptions(formatter={'float_kind':float_formatter})"
      ],
      "execution_count": null,
      "outputs": []
    },
    {
      "cell_type": "markdown",
      "metadata": {
        "id": "u50-4rrDmYXT"
      },
      "source": [
        "#Input data here\n"
      ]
    },
    {
      "cell_type": "code",
      "metadata": {
        "id": "19rQ-qwLDyfq"
      },
      "source": [
        "X =np.array([100,110,120,130,140,150,160,170,180,190])\n",
        "y = np.array([45,51,54,61,66,70,74,78,85,89])\n",
        "n=10\n",
        "to_predict = 210"
      ],
      "execution_count": null,
      "outputs": []
    },
    {
      "cell_type": "markdown",
      "metadata": {
        "id": "oshOo7Qomgbb"
      },
      "source": [
        "#Data Frame Construction\n"
      ]
    },
    {
      "cell_type": "code",
      "metadata": {
        "colab": {
          "base_uri": "https://localhost:8080/",
          "height": 357
        },
        "id": "Dc_pU6N_GNOp",
        "outputId": "91405a6f-2647-46ba-ab6c-07f44f8e00e2"
      },
      "source": [
        "d = {'X': X, 'y': y , 'Xy' :X*y ,'X^2' : pow(X,2)}\n",
        "df = pd.DataFrame(data=d)\n",
        "df"
      ],
      "execution_count": null,
      "outputs": [
        {
          "output_type": "execute_result",
          "data": {
            "text/html": [
              "<div>\n",
              "<style scoped>\n",
              "    .dataframe tbody tr th:only-of-type {\n",
              "        vertical-align: middle;\n",
              "    }\n",
              "\n",
              "    .dataframe tbody tr th {\n",
              "        vertical-align: top;\n",
              "    }\n",
              "\n",
              "    .dataframe thead th {\n",
              "        text-align: right;\n",
              "    }\n",
              "</style>\n",
              "<table border=\"1\" class=\"dataframe\">\n",
              "  <thead>\n",
              "    <tr style=\"text-align: right;\">\n",
              "      <th></th>\n",
              "      <th>X</th>\n",
              "      <th>y</th>\n",
              "      <th>Xy</th>\n",
              "      <th>X^2</th>\n",
              "    </tr>\n",
              "  </thead>\n",
              "  <tbody>\n",
              "    <tr>\n",
              "      <th>0</th>\n",
              "      <td>100</td>\n",
              "      <td>45</td>\n",
              "      <td>4500</td>\n",
              "      <td>10000</td>\n",
              "    </tr>\n",
              "    <tr>\n",
              "      <th>1</th>\n",
              "      <td>110</td>\n",
              "      <td>51</td>\n",
              "      <td>5610</td>\n",
              "      <td>12100</td>\n",
              "    </tr>\n",
              "    <tr>\n",
              "      <th>2</th>\n",
              "      <td>120</td>\n",
              "      <td>54</td>\n",
              "      <td>6480</td>\n",
              "      <td>14400</td>\n",
              "    </tr>\n",
              "    <tr>\n",
              "      <th>3</th>\n",
              "      <td>130</td>\n",
              "      <td>61</td>\n",
              "      <td>7930</td>\n",
              "      <td>16900</td>\n",
              "    </tr>\n",
              "    <tr>\n",
              "      <th>4</th>\n",
              "      <td>140</td>\n",
              "      <td>66</td>\n",
              "      <td>9240</td>\n",
              "      <td>19600</td>\n",
              "    </tr>\n",
              "    <tr>\n",
              "      <th>5</th>\n",
              "      <td>150</td>\n",
              "      <td>70</td>\n",
              "      <td>10500</td>\n",
              "      <td>22500</td>\n",
              "    </tr>\n",
              "    <tr>\n",
              "      <th>6</th>\n",
              "      <td>160</td>\n",
              "      <td>74</td>\n",
              "      <td>11840</td>\n",
              "      <td>25600</td>\n",
              "    </tr>\n",
              "    <tr>\n",
              "      <th>7</th>\n",
              "      <td>170</td>\n",
              "      <td>78</td>\n",
              "      <td>13260</td>\n",
              "      <td>28900</td>\n",
              "    </tr>\n",
              "    <tr>\n",
              "      <th>8</th>\n",
              "      <td>180</td>\n",
              "      <td>85</td>\n",
              "      <td>15300</td>\n",
              "      <td>32400</td>\n",
              "    </tr>\n",
              "    <tr>\n",
              "      <th>9</th>\n",
              "      <td>190</td>\n",
              "      <td>89</td>\n",
              "      <td>16910</td>\n",
              "      <td>36100</td>\n",
              "    </tr>\n",
              "  </tbody>\n",
              "</table>\n",
              "</div>"
            ],
            "text/plain": [
              "     X   y     Xy    X^2\n",
              "0  100  45   4500  10000\n",
              "1  110  51   5610  12100\n",
              "2  120  54   6480  14400\n",
              "3  130  61   7930  16900\n",
              "4  140  66   9240  19600\n",
              "5  150  70  10500  22500\n",
              "6  160  74  11840  25600\n",
              "7  170  78  13260  28900\n",
              "8  180  85  15300  32400\n",
              "9  190  89  16910  36100"
            ]
          },
          "metadata": {
            "tags": []
          },
          "execution_count": 19
        }
      ]
    },
    {
      "cell_type": "markdown",
      "metadata": {
        "id": "D0NhKDRBnD5I"
      },
      "source": [
        "#Scatter Plot"
      ]
    },
    {
      "cell_type": "code",
      "metadata": {
        "colab": {
          "base_uri": "https://localhost:8080/",
          "height": 296
        },
        "id": "BYTvzB29nCPF",
        "outputId": "5a1ed1ad-5bfe-45c5-9ec5-9e9ed30ca206"
      },
      "source": [
        "plt.scatter (X,y)\n",
        "plt.xlabel('X')\n",
        "plt.ylabel('y')"
      ],
      "execution_count": null,
      "outputs": [
        {
          "output_type": "execute_result",
          "data": {
            "text/plain": [
              "Text(0, 0.5, 'y')"
            ]
          },
          "metadata": {
            "tags": []
          },
          "execution_count": 89
        },
        {
          "output_type": "display_data",
          "data": {
            "image/png": "[encoded data removed]",
            "text/plain": [
              "<Figure size 432x288 with 1 Axes>"
            ]
          },
          "metadata": {
            "tags": [],
            "needs_background": "light"
          }
        }
      ]
    },
    {
      "cell_type": "code",
      "metadata": {
        "id": "tFqJDq5xIkcc"
      },
      "source": [
        "sum_X = df['X'].sum()\n",
        "sum_y = df['y'].sum()\n",
        "sum_Xy = df['Xy'].sum()\n",
        "sum_XX = df['X^2'].sum()"
      ],
      "execution_count": null,
      "outputs": []
    },
    {
      "cell_type": "markdown",
      "metadata": {
        "id": "Xujtc80dmmEs"
      },
      "source": [
        "#sum_X , sum_y ,sum_XX  , sum_Xy"
      ]
    },
    {
      "cell_type": "code",
      "metadata": {
        "colab": {
          "base_uri": "https://localhost:8080/"
        },
        "id": "wcKtjSeZJa6k",
        "outputId": "4488cf5b-a0b9-4cbb-8c29-4bce7e4f326d"
      },
      "source": [
        "sum_X , sum_y ,sum_XX  , sum_Xy"
      ],
      "execution_count": null,
      "outputs": [
        {
          "output_type": "execute_result",
          "data": {
            "text/plain": [
              "(1450, 673, 218500, 101570)"
            ]
          },
          "metadata": {
            "tags": []
          },
          "execution_count": 21
        }
      ]
    },
    {
      "cell_type": "code",
      "metadata": {
        "id": "K9xOl_uOKcQT"
      },
      "source": [
        "S_xy = sum_Xy - 1/n*(sum_X*sum_y)\n",
        "S_xx =  (sum_XX  - 1/n*(pow(sum_X,2)))"
      ],
      "execution_count": null,
      "outputs": []
    },
    {
      "cell_type": "code",
      "metadata": {
        "colab": {
          "base_uri": "https://localhost:8080/"
        },
        "id": "bZ01bl8CgPgp",
        "outputId": "8f61e5e6-0ca0-4acc-c75d-bf46c88e3e80"
      },
      "source": [
        "S_xy ,S_xx"
      ],
      "execution_count": null,
      "outputs": [
        {
          "output_type": "execute_result",
          "data": {
            "text/plain": [
              "(3985.0, 8250.0)"
            ]
          },
          "metadata": {
            "tags": []
          },
          "execution_count": 90
        }
      ]
    },
    {
      "cell_type": "markdown",
      "metadata": {
        "id": "NBXHAE_3mtSE"
      },
      "source": [
        "#Alpha ,Beta\n"
      ]
    },
    {
      "cell_type": "code",
      "metadata": {
        "id": "zEswjMDWfv3_"
      },
      "source": [
        "beta = S_xy / S_xx\n",
        "beta = round(beta,3)"
      ],
      "execution_count": null,
      "outputs": []
    },
    {
      "cell_type": "code",
      "metadata": {
        "id": "wqmVUgw1fzvg"
      },
      "source": [
        "y_bar = df['y'].mean()\n",
        "X_bar = df['X'].mean()\n",
        "y_bar =round(y_bar,3)\n",
        "X_bar =round(X_bar,3)"
      ],
      "execution_count": null,
      "outputs": []
    },
    {
      "cell_type": "code",
      "metadata": {
        "colab": {
          "base_uri": "https://localhost:8080/"
        },
        "id": "sFclRyv1hfB9",
        "outputId": "0592af7c-733e-44e9-bd78-a3408bfb0cf7"
      },
      "source": [
        "beta,y_bar,X_bar"
      ],
      "execution_count": null,
      "outputs": [
        {
          "output_type": "execute_result",
          "data": {
            "text/plain": [
              "(0.483, 67.3, 145.0)"
            ]
          },
          "metadata": {
            "tags": []
          },
          "execution_count": 47
        }
      ]
    },
    {
      "cell_type": "code",
      "metadata": {
        "id": "fuaI029qhX4G"
      },
      "source": [
        "alpha =y_bar - beta * X_bar"
      ],
      "execution_count": null,
      "outputs": []
    },
    {
      "cell_type": "code",
      "metadata": {
        "colab": {
          "base_uri": "https://localhost:8080/"
        },
        "id": "WMQTD000hbdy",
        "outputId": "6394199b-f3b1-42ef-8d30-3b306caefb50"
      },
      "source": [
        "alpha = round (alpha ,3)\n",
        "alpha"
      ],
      "execution_count": null,
      "outputs": [
        {
          "output_type": "execute_result",
          "data": {
            "text/plain": [
              "-2.735"
            ]
          },
          "metadata": {
            "tags": []
          },
          "execution_count": 53
        }
      ]
    },
    {
      "cell_type": "markdown",
      "metadata": {
        "id": "EFLN477xmwjU"
      },
      "source": [
        "#Regression Line"
      ]
    },
    {
      "cell_type": "code",
      "metadata": {
        "colab": {
          "base_uri": "https://localhost:8080/"
        },
        "id": "QrIzv7UMhP4c",
        "outputId": "5862e13e-01b4-4fd3-b12e-ec548fd289ae"
      },
      "source": [
        "print(f\"Regression Line is : y={alpha} + {beta} x\")"
      ],
      "execution_count": null,
      "outputs": [
        {
          "output_type": "stream",
          "text": [
            "Regression Line is : y=-2.735 + 0.483 x\n"
          ],
          "name": "stdout"
        }
      ]
    },
    {
      "cell_type": "markdown",
      "metadata": {
        "id": "neRL4h4Imz9E"
      },
      "source": [
        "#Prediction of a value\n"
      ]
    },
    {
      "cell_type": "code",
      "metadata": {
        "colab": {
          "base_uri": "https://localhost:8080/"
        },
        "id": "Q2cQGnlYiZOE",
        "outputId": "337b0953-669e-4e0c-b9a2-819c136d0c74"
      },
      "source": [
        "print(f\"Predicting  y = {alpha} + {beta} X {to_predict}\")\n",
        "y_predicted = alpha +beta *to_predict\n",
        "print(y_predicted)"
      ],
      "execution_count": null,
      "outputs": [
        {
          "output_type": "stream",
          "text": [
            "Predicting  y = -2.735 + 0.483 X 210\n",
            "98.695\n"
          ],
          "name": "stdout"
        }
      ]
    },
    {
      "cell_type": "code",
      "metadata": {
        "id": "2xPPDR2PlFgO"
      },
      "source": [
        "y_cap = alpha + beta * X\n",
        "error = y - y_cap\n",
        "error_sum_of_squares = pow ((y - y_cap ),2)\n",
        "mse = np.sum(error_sum_of_squares)"
      ],
      "execution_count": null,
      "outputs": []
    },
    {
      "cell_type": "markdown",
      "metadata": {
        "id": "h3HXezkCm7ZU"
      },
      "source": [
        "#Error and Estimated y"
      ]
    },
    {
      "cell_type": "code",
      "metadata": {
        "colab": {
          "base_uri": "https://localhost:8080/"
        },
        "id": "FshBSgcllI0j",
        "outputId": "ae278377-9645-4005-f499-45c3357d3d0f"
      },
      "source": [
        "y_cap,error,error_sum_of_squares"
      ],
      "execution_count": null,
      "outputs": [
        {
          "output_type": "execute_result",
          "data": {
            "text/plain": [
              "(array([45.56, 50.39, 55.23, 60.05, 64.89, 69.72, 74.55, 79.38, 84.20,\n",
              "        89.03]),\n",
              " array([-0.56, 0.61, -1.23, 0.95, 1.11, 0.28, -0.55, -1.38, 0.80, -0.03]),\n",
              " array([0.32, 0.37, 1.50, 0.89, 1.24, 0.08, 0.30, 1.89, 0.63, 0.00]),\n",
              " 0.0)"
            ]
          },
          "metadata": {
            "tags": []
          },
          "execution_count": 85
        }
      ]
    },
    {
      "cell_type": "code",
      "metadata": {
        "colab": {
          "base_uri": "https://localhost:8080/"
        },
        "id": "T9J2PuSWpJHD",
        "outputId": "ce27731e-3bb5-430d-dcd8-1389b3928c09"
      },
      "source": [
        "mse"
      ],
      "execution_count": null,
      "outputs": [
        {
          "output_type": "execute_result",
          "data": {
            "text/plain": [
              "7.224249999999998"
            ]
          },
          "metadata": {
            "tags": []
          },
          "execution_count": 88
        }
      ]
    },
    {
      "cell_type": "markdown",
      "metadata": {
        "id": "eRXzItlXnP8s"
      },
      "source": [
        "#Best Fit data\n"
      ]
    },
    {
      "cell_type": "code",
      "metadata": {
        "colab": {
          "base_uri": "https://localhost:8080/",
          "height": 282
        },
        "id": "rNQ9QRsmlrJO",
        "outputId": "fd14da9c-282a-4e96-be10-c5a59b41bce1"
      },
      "source": [
        "plt.scatter (X,y)\n",
        "plt.plot(X,y_cap)"
      ],
      "execution_count": null,
      "outputs": [
        {
          "output_type": "execute_result",
          "data": {
            "text/plain": [
              "[<matplotlib.lines.Line2D at 0x7f227265fa10>]"
            ]
          },
          "metadata": {
            "tags": []
          },
          "execution_count": 64
        },
        {
          "output_type": "display_data",
          "data": {
            "image/png": "[encoded data removed]",
            "text/plain": [
              "<Figure size 432x288 with 1 Axes>"
            ]
          },
          "metadata": {
            "tags": [],
            "needs_background": "light"
          }
        }
      ]
    }
  ]
}
{
  "nbformat": 4,
  "nbformat_minor": 0,
  "metadata": {
    "colab": {
      "name": "Correlation.ipynb",
      "provenance": [],
      "collapsed_sections": [],
      "authorship_tag": "ABX9TyObwbOSNrcL3uD9Mjd0B/a0",
      "include_colab_link": true
    },
    "kernelspec": {
      "name": "python3",
      "display_name": "Python 3"
    },
    "language_info": {
      "name": "python"
    }
  },
  "cells": [
    {
      "cell_type": "markdown",
      "metadata": {
        "id": "view-in-github",
        "colab_type": "text"
      },
      "source": [
        "<a href=\"https://colab.research.google.com/github/34-anish/Python/blob/master/Correlation.ipynb\" target=\"_parent\"><img src=\"https://colab.research.google.com/assets/colab-badge.svg\" alt=\"Open In Colab\"/></a>"
      ]
    },
    {
      "cell_type": "code",
      "metadata": {
        "id": "aYiRAjNuDuD8"
      },
      "source": [
        "import numpy as np\n",
        "import pandas as pd\n",
        "import matplotlib.pyplot as plt\n",
        "import math\n"
      ],
      "execution_count": null,
      "outputs": []
    },
    {
      "cell_type": "code",
      "metadata": {
        "id": "68Xy1waJoxbl"
      },
      "source": [
        "float_formatter = \"{:.4f}\".format\n",
        "np.set_printoptions(formatter={'float_kind':float_formatter})"
      ],
      "execution_count": null,
      "outputs": []
    },
    {
      "cell_type": "markdown",
      "metadata": {
        "id": "u50-4rrDmYXT"
      },
      "source": [
        "#Input data here\n"
      ]
    },
    {
      "cell_type": "code",
      "metadata": {
        "id": "19rQ-qwLDyfq"
      },
      "source": [
        "X =np.array([42,35,50,43,48,62,31,36,44,39,55,48])\n",
        "y = np.array([12,8,14,9,11,16,7,9,12,10,13,11])\n",
        "n=12\n",
        "to_predict = 40"
      ],
      "execution_count": null,
      "outputs": []
    },
    {
      "cell_type": "markdown",
      "metadata": {
        "id": "oshOo7Qomgbb"
      },
      "source": [
        "#Data Frame Construction\n"
      ]
    },
    {
      "cell_type": "code",
      "metadata": {
        "colab": {
          "base_uri": "https://localhost:8080/",
          "height": 418
        },
        "id": "Dc_pU6N_GNOp",
        "outputId": "656f9177-63e2-456a-d761-6b35c83d9efc"
      },
      "source": [
        "d = {'X': X, 'y': y ,'X^2' : pow(X,2) ,'y^2' : pow(y,2), 'Xy' :X*y }\n",
        "df = pd.DataFrame(data=d)\n",
        "df"
      ],
      "execution_count": null,
      "outputs": [
        {
          "output_type": "execute_result",
          "data": {
            "text/html": [
              "<div>\n",
              "<style scoped>\n",
              "    .dataframe tbody tr th:only-of-type {\n",
              "        vertical-align: middle;\n",
              "    }\n",
              "\n",
              "    .dataframe tbody tr th {\n",
              "        vertical-align: top;\n",
              "    }\n",
              "\n",
              "    .dataframe thead th {\n",
              "        text-align: right;\n",
              "    }\n",
              "</style>\n",
              "<table border=\"1\" class=\"dataframe\">\n",
              "  <thead>\n",
              "    <tr style=\"text-align: right;\">\n",
              "      <th></th>\n",
              "      <th>X</th>\n",
              "      <th>y</th>\n",
              "      <th>X^2</th>\n",
              "      <th>y^2</th>\n",
              "      <th>Xy</th>\n",
              "    </tr>\n",
              "  </thead>\n",
              "  <tbody>\n",
              "    <tr>\n",
              "      <th>0</th>\n",
              "      <td>42</td>\n",
              "      <td>12</td>\n",
              "      <td>1764</td>\n",
              "      <td>144</td>\n",
              "      <td>504</td>\n",
              "    </tr>\n",
              "    <tr>\n",
              "      <th>1</th>\n",
              "      <td>35</td>\n",
              "      <td>8</td>\n",
              "      <td>1225</td>\n",
              "      <td>64</td>\n",
              "      <td>280</td>\n",
              "    </tr>\n",
              "    <tr>\n",
              "      <th>2</th>\n",
              "      <td>50</td>\n",
              "      <td>14</td>\n",
              "      <td>2500</td>\n",
              "      <td>196</td>\n",
              "      <td>700</td>\n",
              "    </tr>\n",
              "    <tr>\n",
              "      <th>3</th>\n",
              "      <td>43</td>\n",
              "      <td>9</td>\n",
              "      <td>1849</td>\n",
              "      <td>81</td>\n",
              "      <td>387</td>\n",
              "    </tr>\n",
              "    <tr>\n",
              "      <th>4</th>\n",
              "      <td>48</td>\n",
              "      <td>11</td>\n",
              "      <td>2304</td>\n",
              "      <td>121</td>\n",
              "      <td>528</td>\n",
              "    </tr>\n",
              "    <tr>\n",
              "      <th>5</th>\n",
              "      <td>62</td>\n",
              "      <td>16</td>\n",
              "      <td>3844</td>\n",
              "      <td>256</td>\n",
              "      <td>992</td>\n",
              "    </tr>\n",
              "    <tr>\n",
              "      <th>6</th>\n",
              "      <td>31</td>\n",
              "      <td>7</td>\n",
              "      <td>961</td>\n",
              "      <td>49</td>\n",
              "      <td>217</td>\n",
              "    </tr>\n",
              "    <tr>\n",
              "      <th>7</th>\n",
              "      <td>36</td>\n",
              "      <td>9</td>\n",
              "      <td>1296</td>\n",
              "      <td>81</td>\n",
              "      <td>324</td>\n",
              "    </tr>\n",
              "    <tr>\n",
              "      <th>8</th>\n",
              "      <td>44</td>\n",
              "      <td>12</td>\n",
              "      <td>1936</td>\n",
              "      <td>144</td>\n",
              "      <td>528</td>\n",
              "    </tr>\n",
              "    <tr>\n",
              "      <th>9</th>\n",
              "      <td>39</td>\n",
              "      <td>10</td>\n",
              "      <td>1521</td>\n",
              "      <td>100</td>\n",
              "      <td>390</td>\n",
              "    </tr>\n",
              "    <tr>\n",
              "      <th>10</th>\n",
              "      <td>55</td>\n",
              "      <td>13</td>\n",
              "      <td>3025</td>\n",
              "      <td>169</td>\n",
              "      <td>715</td>\n",
              "    </tr>\n",
              "    <tr>\n",
              "      <th>11</th>\n",
              "      <td>48</td>\n",
              "      <td>11</td>\n",
              "      <td>2304</td>\n",
              "      <td>121</td>\n",
              "      <td>528</td>\n",
              "    </tr>\n",
              "  </tbody>\n",
              "</table>\n",
              "</div>"
            ],
            "text/plain": [
              "     X   y   X^2  y^2   Xy\n",
              "0   42  12  1764  144  504\n",
              "1   35   8  1225   64  280\n",
              "2   50  14  2500  196  700\n",
              "3   43   9  1849   81  387\n",
              "4   48  11  2304  121  528\n",
              "5   62  16  3844  256  992\n",
              "6   31   7   961   49  217\n",
              "7   36   9  1296   81  324\n",
              "8   44  12  1936  144  528\n",
              "9   39  10  1521  100  390\n",
              "10  55  13  3025  169  715\n",
              "11  48  11  2304  121  528"
            ]
          },
          "metadata": {
            "tags": []
          },
          "execution_count": 71
        }
      ]
    },
    {
      "cell_type": "markdown",
      "metadata": {
        "id": "D0NhKDRBnD5I"
      },
      "source": [
        "#Scatter Plot"
      ]
    },
    {
      "cell_type": "code",
      "metadata": {
        "colab": {
          "base_uri": "https://localhost:8080/",
          "height": 282
        },
        "id": "BYTvzB29nCPF",
        "outputId": "7e7bd1f5-a1fe-4592-9ddf-00831ba2200a"
      },
      "source": [
        "plt.scatter (X,y)"
      ],
      "execution_count": null,
      "outputs": [
        {
          "output_type": "execute_result",
          "data": {
            "text/plain": [
              "<matplotlib.collections.PathCollection at 0x7f427de94390>"
            ]
          },
          "metadata": {
            "tags": []
          },
          "execution_count": 52
        },
        {
          "output_type": "display_data",
          "data": {
            "image/png": "[encoded data removed]",
            "text/plain": [
              "<Figure size 432x288 with 1 Axes>"
            ]
          },
          "metadata": {
            "tags": [],
            "needs_background": "light"
          }
        }
      ]
    },
    {
      "cell_type": "code",
      "metadata": {
        "id": "tFqJDq5xIkcc"
      },
      "source": [
        "sum_X = df['X'].sum()\n",
        "sum_y = df['y'].sum()\n",
        "sum_Xy = df['Xy'].sum()\n",
        "sum_XX = df['X^2'].sum()\n",
        "sum_yy = df['y^2'].sum()"
      ],
      "execution_count": null,
      "outputs": []
    },
    {
      "cell_type": "markdown",
      "metadata": {
        "id": "Xujtc80dmmEs"
      },
      "source": [
        "#sum_X , sum_y ,sum_XX  , sum_yy, sum_Xy"
      ]
    },
    {
      "cell_type": "code",
      "metadata": {
        "colab": {
          "base_uri": "https://localhost:8080/"
        },
        "id": "wcKtjSeZJa6k",
        "outputId": "521b3eb0-445d-47e4-e358-e6cb4abc3f2e"
      },
      "source": [
        "sum_X , sum_y ,sum_XX  , sum_Xy,sum_yy"
      ],
      "execution_count": null,
      "outputs": [
        {
          "output_type": "execute_result",
          "data": {
            "text/plain": [
              "(533, 132, 24529, 6093, 1526)"
            ]
          },
          "metadata": {
            "tags": []
          },
          "execution_count": 73
        }
      ]
    },
    {
      "cell_type": "code",
      "metadata": {
        "id": "K9xOl_uOKcQT"
      },
      "source": [
        "S_xy = sum_Xy - 1/n*(sum_X*sum_y)\n",
        "S_xx =  (sum_XX  - 1/n*(pow(sum_X,2)))\n",
        "S_yy =  (sum_yy  - 1/n*(pow(sum_y,2)))"
      ],
      "execution_count": null,
      "outputs": []
    },
    {
      "cell_type": "code",
      "metadata": {
        "colab": {
          "base_uri": "https://localhost:8080/"
        },
        "id": "bZ01bl8CgPgp",
        "outputId": "fd98fcd3-d749-4c43-b9fc-6c073d93741c"
      },
      "source": [
        "S_xx,S_xy,S_yy"
      ],
      "execution_count": null,
      "outputs": [
        {
          "output_type": "execute_result",
          "data": {
            "text/plain": [
              "(854.9166666666679, 230.0, 74.0)"
            ]
          },
          "metadata": {
            "tags": []
          },
          "execution_count": 75
        }
      ]
    },
    {
      "cell_type": "markdown",
      "metadata": {
        "id": "NBXHAE_3mtSE"
      },
      "source": [
        "#Correlation Coefficient"
      ]
    },
    {
      "cell_type": "code",
      "metadata": {
        "id": "zEswjMDWfv3_",
        "colab": {
          "base_uri": "https://localhost:8080/"
        },
        "outputId": "0c5312b6-8bd9-4169-84b8-576e716d158d"
      },
      "source": [
        "r= S_xy / (math.sqrt(S_xx) * math.sqrt(S_yy))\n",
        "print (f\"The correlation coefficient is : {r}\")\n",
        "print (f\"The coefficient of determination is : {pow(r,2)}\")\n"
      ],
      "execution_count": null,
      "outputs": [
        {
          "output_type": "stream",
          "text": [
            "The correlation coefficient is : 0.914429196958921\n",
            "The coefficient of determination is : 0.8361807562509371\n"
          ],
          "name": "stdout"
        }
      ]
    },
    {
      "cell_type": "code",
      "metadata": {
        "id": "Gup0ZQ-r2Wim"
      },
      "source": [
        ""
      ],
      "execution_count": null,
      "outputs": []
    }
  ]
}
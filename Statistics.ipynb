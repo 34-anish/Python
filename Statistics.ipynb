{
  "nbformat": 4,
  "nbformat_minor": 0,
  "metadata": {
    "colab": {
      "name": "Statistics.ipynb",
      "provenance": [],
      "toc_visible": true,
      "authorship_tag": "ABX9TyMVSxp8XCHl1LpbzEjYBG9x",
      "include_colab_link": true
    },
    "kernelspec": {
      "name": "python3",
      "display_name": "Python 3"
    },
    "language_info": {
      "name": "python"
    }
  },
  "cells": [
    {
      "cell_type": "markdown",
      "metadata": {
        "id": "view-in-github",
        "colab_type": "text"
      },
      "source": [
        "<a href=\"https://colab.research.google.com/github/34-anish/Python/blob/master/Statistics.ipynb\" target=\"_parent\"><img src=\"https://colab.research.google.com/assets/colab-badge.svg\" alt=\"Open In Colab\"/></a>"
      ]
    },
    {
      "cell_type": "markdown",
      "metadata": {
        "id": "jnibfGL4E0sE"
      },
      "source": [
        "# Frequencies if unique element"
      ]
    },
    {
      "cell_type": "code",
      "metadata": {
        "id": "oeHC33WYEIjl"
      },
      "source": [
        "import numpy as np\n",
        "import pandas as pd\n"
      ],
      "execution_count": null,
      "outputs": []
    },
    {
      "cell_type": "code",
      "metadata": {
        "colab": {
          "base_uri": "https://localhost:8080/"
        },
        "id": "5lnMzwlcEMnU",
        "outputId": "07910624-4384-4eec-ecf2-14b3916d5e78"
      },
      "source": [
        "data = np.array([41.60,41.48,42.34,41.95,41.86,42.18,41.72,42.26,41.81,42.04])\n",
        "\n",
        "np.mean(data)"
      ],
      "execution_count": null,
      "outputs": [
        {
          "output_type": "execute_result",
          "data": {
            "text/plain": [
              "41.924"
            ]
          },
          "metadata": {},
          "execution_count": 2
        }
      ]
    },
    {
      "cell_type": "code",
      "metadata": {
        "colab": {
          "base_uri": "https://localhost:8080/"
        },
        "id": "R9s02oyoPzYt",
        "outputId": "676d1e1c-71cb-4973-aa35-d7cc0dfe16c9"
      },
      "source": [
        "np.median(data)"
      ],
      "execution_count": null,
      "outputs": [
        {
          "output_type": "execute_result",
          "data": {
            "text/plain": [
              "61.45"
            ]
          },
          "metadata": {
            "tags": []
          },
          "execution_count": 36
        }
      ]
    },
    {
      "cell_type": "code",
      "metadata": {
        "colab": {
          "base_uri": "https://localhost:8080/"
        },
        "id": "44qRIZfIEURF",
        "outputId": "b2b8f019-0db8-49c5-dfc2-34568b430e8a"
      },
      "source": [
        "df =pd.DataFrame(data)\n",
        "df.value_counts(sort=False)"
      ],
      "execution_count": null,
      "outputs": [
        {
          "output_type": "execute_result",
          "data": {
            "text/plain": [
              "56.1    1\n",
              "57.3    1\n",
              "57.5    1\n",
              "57.8    1\n",
              "58.1    2\n",
              "59.2    2\n",
              "59.3    1\n",
              "59.4    1\n",
              "59.6    1\n",
              "59.8    1\n",
              "60.5    1\n",
              "61.4    2\n",
              "61.5    3\n",
              "61.8    2\n",
              "62.2    2\n",
              "62.5    1\n",
              "62.8    1\n",
              "63.2    1\n",
              "63.6    1\n",
              "63.7    1\n",
              "63.8    1\n",
              "64.1    1\n",
              "64.2    1\n",
              "dtype: int64"
            ]
          },
          "metadata": {
            "tags": []
          },
          "execution_count": 32
        }
      ]
    },
    {
      "cell_type": "code",
      "metadata": {
        "id": "FjJtpn9MQnvy",
        "colab": {
          "base_uri": "https://localhost:8080/",
          "height": 297
        },
        "outputId": "62e7d122-c8a7-44c0-865f-c3b28a1c2073"
      },
      "source": [
        "df.describe()"
      ],
      "execution_count": null,
      "outputs": [
        {
          "output_type": "execute_result",
          "data": {
            "text/html": [
              "<div>\n",
              "<style scoped>\n",
              "    .dataframe tbody tr th:only-of-type {\n",
              "        vertical-align: middle;\n",
              "    }\n",
              "\n",
              "    .dataframe tbody tr th {\n",
              "        vertical-align: top;\n",
              "    }\n",
              "\n",
              "    .dataframe thead th {\n",
              "        text-align: right;\n",
              "    }\n",
              "</style>\n",
              "<table border=\"1\" class=\"dataframe\">\n",
              "  <thead>\n",
              "    <tr style=\"text-align: right;\">\n",
              "      <th></th>\n",
              "      <th>0</th>\n",
              "    </tr>\n",
              "  </thead>\n",
              "  <tbody>\n",
              "    <tr>\n",
              "      <th>count</th>\n",
              "      <td>30.000000</td>\n",
              "    </tr>\n",
              "    <tr>\n",
              "      <th>mean</th>\n",
              "      <td>60.836667</td>\n",
              "    </tr>\n",
              "    <tr>\n",
              "      <th>std</th>\n",
              "      <td>2.267382</td>\n",
              "    </tr>\n",
              "    <tr>\n",
              "      <th>min</th>\n",
              "      <td>56.100000</td>\n",
              "    </tr>\n",
              "    <tr>\n",
              "      <th>25%</th>\n",
              "      <td>59.225000</td>\n",
              "    </tr>\n",
              "    <tr>\n",
              "      <th>50%</th>\n",
              "      <td>61.450000</td>\n",
              "    </tr>\n",
              "    <tr>\n",
              "      <th>75%</th>\n",
              "      <td>62.425000</td>\n",
              "    </tr>\n",
              "    <tr>\n",
              "      <th>max</th>\n",
              "      <td>64.200000</td>\n",
              "    </tr>\n",
              "  </tbody>\n",
              "</table>\n",
              "</div>"
            ],
            "text/plain": [
              "               0\n",
              "count  30.000000\n",
              "mean   60.836667\n",
              "std     2.267382\n",
              "min    56.100000\n",
              "25%    59.225000\n",
              "50%    61.450000\n",
              "75%    62.425000\n",
              "max    64.200000"
            ]
          },
          "metadata": {
            "tags": []
          },
          "execution_count": 37
        }
      ]
    },
    {
      "cell_type": "markdown",
      "metadata": {
        "id": "c_8xoAL2vy7B"
      },
      "source": [
        "#Stem and leaf plot\n"
      ]
    },
    {
      "cell_type": "code",
      "metadata": {
        "colab": {
          "base_uri": "https://localhost:8080/"
        },
        "id": "WyUwyzfTJL5_",
        "outputId": "e1380957-f345-4d27-adb0-5337dcf1e46c"
      },
      "source": [
        "pip install stemgraphic\n"
      ],
      "execution_count": null,
      "outputs": [
        {
          "output_type": "stream",
          "text": [
            "Requirement already satisfied: stemgraphic in /usr/local/lib/python3.7/dist-packages (0.9.1)\n",
            "Requirement already satisfied: docopt in /usr/local/lib/python3.7/dist-packages (from stemgraphic) (0.6.2)\n",
            "Requirement already satisfied: pandas in /usr/local/lib/python3.7/dist-packages (from stemgraphic) (1.1.5)\n",
            "Requirement already satisfied: matplotlib in /usr/local/lib/python3.7/dist-packages (from stemgraphic) (3.2.2)\n",
            "Requirement already satisfied: seaborn in /usr/local/lib/python3.7/dist-packages (from stemgraphic) (0.11.1)\n",
            "Requirement already satisfied: numpy>=1.15.4 in /usr/local/lib/python3.7/dist-packages (from pandas->stemgraphic) (1.19.5)\n",
            "Requirement already satisfied: pytz>=2017.2 in /usr/local/lib/python3.7/dist-packages (from pandas->stemgraphic) (2018.9)\n",
            "Requirement already satisfied: python-dateutil>=2.7.3 in /usr/local/lib/python3.7/dist-packages (from pandas->stemgraphic) (2.8.1)\n",
            "Requirement already satisfied: pyparsing!=2.0.4,!=2.1.2,!=2.1.6,>=2.0.1 in /usr/local/lib/python3.7/dist-packages (from matplotlib->stemgraphic) (2.4.7)\n",
            "Requirement already satisfied: cycler>=0.10 in /usr/local/lib/python3.7/dist-packages (from matplotlib->stemgraphic) (0.10.0)\n",
            "Requirement already satisfied: kiwisolver>=1.0.1 in /usr/local/lib/python3.7/dist-packages (from matplotlib->stemgraphic) (1.3.1)\n",
            "Requirement already satisfied: scipy>=1.0 in /usr/local/lib/python3.7/dist-packages (from seaborn->stemgraphic) (1.4.1)\n",
            "Requirement already satisfied: six>=1.5 in /usr/local/lib/python3.7/dist-packages (from python-dateutil>=2.7.3->pandas->stemgraphic) (1.15.0)\n"
          ],
          "name": "stdout"
        }
      ]
    },
    {
      "cell_type": "code",
      "metadata": {
        "id": "ZOKohgu8JM5w"
      },
      "source": [
        "import stemgraphic"
      ],
      "execution_count": null,
      "outputs": []
    },
    {
      "cell_type": "code",
      "metadata": {
        "colab": {
          "base_uri": "https://localhost:8080/"
        },
        "id": "z4svs96Zs2AP",
        "outputId": "0a7bffce-090f-429c-f159-03dc9b2b14a2"
      },
      "source": [
        "data =np.array([29,40,25,31,60,68,39,42,60,43,28,52,30,32,48,17,40,21,32,30,21,72,22,29,19,43,43,36,50,32,43,41,34,45,47,23,48,24,31,35,24,23,19,24,54,56,56,65,47,39])\n",
        "data.size"
      ],
      "execution_count": null,
      "outputs": [
        {
          "output_type": "execute_result",
          "data": {
            "text/plain": [
              "50"
            ]
          },
          "metadata": {
            "tags": []
          },
          "execution_count": 19
        }
      ]
    },
    {
      "cell_type": "code",
      "metadata": {
        "colab": {
          "base_uri": "https://localhost:8080/",
          "height": 266
        },
        "id": "GzQhxZSyK2oy",
        "outputId": "10eda702-5782-467d-ac81-bb38a1727d67"
      },
      "source": [
        "stemgraphic.stem_graphic(data,scale=1)"
      ],
      "execution_count": null,
      "outputs": [
        {
          "output_type": "execute_result",
          "data": {
            "text/plain": [
              "(<Figure size 540x216 with 1 Axes>,\n",
              " <matplotlib.axes._axes.Axes at 0x7fa0130fcd90>)"
            ]
          },
          "metadata": {
            "tags": []
          },
          "execution_count": 35
        },
        {
          "output_type": "display_data",
          "data": {
            "image/png": "[encoded data removed]",
            "text/plain": [
              "<Figure size 540x216 with 1 Axes>"
            ]
          },
          "metadata": {
            "tags": []
          }
        }
      ]
    },
    {
      "cell_type": "markdown",
      "metadata": {
        "id": "sRX-4UK5v5xB"
      },
      "source": [
        "#Stem and leaf plot using numpy"
      ]
    },
    {
      "cell_type": "code",
      "metadata": {
        "colab": {
          "base_uri": "https://localhost:8080/",
          "height": 227
        },
        "id": "YU93KtYuuuUj",
        "outputId": "b94368fa-3ad2-4398-a4c9-4d7c3493f118"
      },
      "source": [
        "a = np.array([88.5,87.7,83.4,86.7,87.5,91.5,88.6,100.3,95.6,93.3,94.7,91.1,91.0,94.2,87.8,89.9,88.3,87.6,84.3,86.7,88.2,90.8,88.3,98.9,94.2,92.7,93.2,91.0,90.3,93.4,88.5,90.1,89.2,88.3,85.3,87.9,88.6,90.9,89.0,96.1,93.3,91.8,92.3,90.4,90.1,93.0,88.7,89.9,89.8,89.6,87.4,88.4,88.9,91.2,89.3,94.4,92.7,91.8,91.6,90.4,91.1,92.6,89.8,90.6,91.1,90.4,89.3,89.7,90.3,91.6,90.5,93.7,92.7,92.2,92.2,91.2,91.0,92.2,90.0,90.7,])\n",
        "a= np.array([2.0,3.0,0.3,3.3,1.3,0.4,0.2,6.0,5.5,6.5,0.2,2.3,1.5,4.0,5.9,1.8,4.7,0.7,4.5,0.3,1.5,0.5,2.5,5.0,1.0,6.0,5.6,6.0,1.2,0.2])\n",
        "\n",
        "a.sort()\n",
        "a\n",
        "np.max(a)\n",
        "stemgraphic.stem_graphic(a,scale=1)"
      ],
      "execution_count": null,
      "outputs": [
        {
          "output_type": "execute_result",
          "data": {
            "text/plain": [
              "(<Figure size 540x180 with 1 Axes>,\n",
              " <matplotlib.axes._axes.Axes at 0x7fa0134830d0>)"
            ]
          },
          "metadata": {
            "tags": []
          },
          "execution_count": 21
        },
        {
          "output_type": "display_data",
          "data": {
            "image/png": "[encoded data removed]",
            "text/plain": [
              "<Figure size 540x180 with 1 Axes>"
            ]
          },
          "metadata": {
            "tags": [],
            "needs_background": "light"
          }
        }
      ]
    },
    {
      "cell_type": "code",
      "metadata": {
        "colab": {
          "base_uri": "https://localhost:8080/"
        },
        "id": "gTJi3iPWMqEs",
        "outputId": "aab3f9d9-25cb-4c75-bf97-784a0edda843"
      },
      "source": [
        "a=np.array([29,40,25,31,60,68,39,42,60,43,28,52,30,32,48,17,40,21,32,30,21,72,22,29,19,43,43,36,50,32,43,41,34,45,47,23,48,24,31,35,24,23,19,24,54,56,56,65,47,39])\n",
        "df =pd.DataFrame(a)\n",
        "df.value_counts(sort=False)"
      ],
      "execution_count": null,
      "outputs": [
        {
          "output_type": "execute_result",
          "data": {
            "text/plain": [
              "17    1\n",
              "19    2\n",
              "21    2\n",
              "22    1\n",
              "23    2\n",
              "24    3\n",
              "25    1\n",
              "28    1\n",
              "29    2\n",
              "30    2\n",
              "31    2\n",
              "32    3\n",
              "34    1\n",
              "35    1\n",
              "36    1\n",
              "39    2\n",
              "40    2\n",
              "41    1\n",
              "42    1\n",
              "43    4\n",
              "45    1\n",
              "47    2\n",
              "48    2\n",
              "50    1\n",
              "52    1\n",
              "54    1\n",
              "56    2\n",
              "60    2\n",
              "65    1\n",
              "68    1\n",
              "72    1\n",
              "dtype: int64"
            ]
          },
          "metadata": {
            "tags": []
          },
          "execution_count": 22
        }
      ]
    },
    {
      "cell_type": "markdown",
      "metadata": {
        "id": "hRgMWqt-2IS4"
      },
      "source": [
        "#Box plot"
      ]
    },
    {
      "cell_type": "code",
      "metadata": {
        "colab": {
          "base_uri": "https://localhost:8080/"
        },
        "id": "ntFFLk9wxkBc",
        "outputId": "6f852e4f-82c5-43c1-9dd6-58814c57e464"
      },
      "source": [
        "question1=np.array([126,129,134,141,131,132,136,145,116,128,130,162,125,126,134,129,134,127,120,127,120,122,129,133,125,111,147,129,150,148,126,140,130,120,117,131,149,117,143,133])\n",
        "(unique, counts) = np.unique(question1, return_counts=True)\n",
        "frequencies = np.asarray((unique, counts)).T\n",
        "frequencies"
      ],
      "execution_count": null,
      "outputs": [
        {
          "output_type": "execute_result",
          "data": {
            "text/plain": [
              "array([[111,   1],\n",
              "       [116,   1],\n",
              "       [117,   2],\n",
              "       [120,   3],\n",
              "       [122,   1],\n",
              "       [125,   2],\n",
              "       [126,   3],\n",
              "       [127,   2],\n",
              "       [128,   1],\n",
              "       [129,   4],\n",
              "       [130,   2],\n",
              "       [131,   2],\n",
              "       [132,   1],\n",
              "       [133,   2],\n",
              "       [134,   3],\n",
              "       [136,   1],\n",
              "       [140,   1],\n",
              "       [141,   1],\n",
              "       [143,   1],\n",
              "       [145,   1],\n",
              "       [147,   1],\n",
              "       [148,   1],\n",
              "       [149,   1],\n",
              "       [150,   1],\n",
              "       [162,   1]])"
            ]
          },
          "metadata": {
            "tags": []
          },
          "execution_count": 23
        }
      ]
    },
    {
      "cell_type": "code",
      "metadata": {
        "id": "iNuOb6fyIjYT"
      },
      "source": [
        "import matplotlib.pyplot as plt"
      ],
      "execution_count": null,
      "outputs": []
    },
    {
      "cell_type": "code",
      "metadata": {
        "id": "INKQl74uBW7J",
        "colab": {
          "base_uri": "https://localhost:8080/",
          "height": 401
        },
        "outputId": "736f90f1-5232-406e-dedb-dc61639363a8"
      },
      "source": [
        "plt.boxplot([question1])"
      ],
      "execution_count": null,
      "outputs": [
        {
          "output_type": "execute_result",
          "data": {
            "text/plain": [
              "{'boxes': [<matplotlib.lines.Line2D at 0x7fa013353cd0>],\n",
              " 'caps': [<matplotlib.lines.Line2D at 0x7fa013359cd0>,\n",
              "  <matplotlib.lines.Line2D at 0x7fa013360250>],\n",
              " 'fliers': [<matplotlib.lines.Line2D at 0x7fa013360d10>],\n",
              " 'means': [],\n",
              " 'medians': [<matplotlib.lines.Line2D at 0x7fa0133607d0>],\n",
              " 'whiskers': [<matplotlib.lines.Line2D at 0x7fa013359250>,\n",
              "  <matplotlib.lines.Line2D at 0x7fa013359790>]}"
            ]
          },
          "metadata": {
            "tags": []
          },
          "execution_count": 25
        },
        {
          "output_type": "display_data",
          "data": {
            "image/png": "[encoded data removed]",
            "text/plain": [
              "<Figure size 432x288 with 1 Axes>"
            ]
          },
          "metadata": {
            "tags": [],
            "needs_background": "light"
          }
        }
      ]
    },
    {
      "cell_type": "code",
      "metadata": {
        "id": "B64rX8SKyad9",
        "colab": {
          "base_uri": "https://localhost:8080/",
          "height": 302
        },
        "outputId": "c40070a7-cb9a-4575-a795-b5c86a532444"
      },
      "source": [
        "import seaborn as sns\n",
        "import pandas as pd\n",
        "question1=np.array([126,129,134,141,131,132,136,145,116,128,130,162,125,126,134,129,134,127,120,127,120,122,129,133,125,111,147,129,150,148,126,140,130,120,117,131,149,117,143,133])\n",
        "print(f\" MAX:{np.max(question1)} , MIN:{np.min(question1)}\")\n",
        "sns.set_theme(style=\"whitegrid\")\n",
        "sns.boxplot(data=pd.DataFrame(question1), orient='h',width =0.3)\n"
      ],
      "execution_count": null,
      "outputs": [
        {
          "output_type": "stream",
          "text": [
            " MAX:162 , MIN:111\n"
          ],
          "name": "stdout"
        },
        {
          "output_type": "execute_result",
          "data": {
            "text/plain": [
              "<matplotlib.axes._subplots.AxesSubplot at 0x7fa01337fd50>"
            ]
          },
          "metadata": {
            "tags": []
          },
          "execution_count": 26
        },
        {
          "output_type": "display_data",
          "data": {
            "image/png": "[encoded data removed]",
            "text/plain": [
              "<Figure size 432x288 with 1 Axes>"
            ]
          },
          "metadata": {
            "tags": []
          }
        }
      ]
    },
    {
      "cell_type": "code",
      "metadata": {
        "id": "-2hPbYS92k7g",
        "colab": {
          "base_uri": "https://localhost:8080/",
          "height": 282
        },
        "outputId": "d81d23a0-5032-496c-f43a-b7b00c36a8de"
      },
      "source": [
        "df.unique"
      ],
      "execution_count": null,
      "outputs": [
        {
          "output_type": "error",
          "ename": "AttributeError",
          "evalue": "ignored",
          "traceback": [
            "\u001b[0;31m---------------------------------------------------------------------------\u001b[0m",
            "\u001b[0;31mAttributeError\u001b[0m                            Traceback (most recent call last)",
            "\u001b[0;32m<ipython-input-27-24917de15bc0>\u001b[0m in \u001b[0;36m<module>\u001b[0;34m()\u001b[0m\n\u001b[0;32m----> 1\u001b[0;31m \u001b[0mdf\u001b[0m\u001b[0;34m.\u001b[0m\u001b[0munique\u001b[0m\u001b[0;34m\u001b[0m\u001b[0;34m\u001b[0m\u001b[0m\n\u001b[0m",
            "\u001b[0;32m/usr/local/lib/python3.7/dist-packages/pandas/core/generic.py\u001b[0m in \u001b[0;36m__getattr__\u001b[0;34m(self, name)\u001b[0m\n\u001b[1;32m   5139\u001b[0m             \u001b[0;32mif\u001b[0m \u001b[0mself\u001b[0m\u001b[0;34m.\u001b[0m\u001b[0m_info_axis\u001b[0m\u001b[0;34m.\u001b[0m\u001b[0m_can_hold_identifiers_and_holds_name\u001b[0m\u001b[0;34m(\u001b[0m\u001b[0mname\u001b[0m\u001b[0;34m)\u001b[0m\u001b[0;34m:\u001b[0m\u001b[0;34m\u001b[0m\u001b[0;34m\u001b[0m\u001b[0m\n\u001b[1;32m   5140\u001b[0m                 \u001b[0;32mreturn\u001b[0m \u001b[0mself\u001b[0m\u001b[0;34m[\u001b[0m\u001b[0mname\u001b[0m\u001b[0;34m]\u001b[0m\u001b[0;34m\u001b[0m\u001b[0;34m\u001b[0m\u001b[0m\n\u001b[0;32m-> 5141\u001b[0;31m             \u001b[0;32mreturn\u001b[0m \u001b[0mobject\u001b[0m\u001b[0;34m.\u001b[0m\u001b[0m__getattribute__\u001b[0m\u001b[0;34m(\u001b[0m\u001b[0mself\u001b[0m\u001b[0;34m,\u001b[0m \u001b[0mname\u001b[0m\u001b[0;34m)\u001b[0m\u001b[0;34m\u001b[0m\u001b[0;34m\u001b[0m\u001b[0m\n\u001b[0m\u001b[1;32m   5142\u001b[0m \u001b[0;34m\u001b[0m\u001b[0m\n\u001b[1;32m   5143\u001b[0m     \u001b[0;32mdef\u001b[0m \u001b[0m__setattr__\u001b[0m\u001b[0;34m(\u001b[0m\u001b[0mself\u001b[0m\u001b[0;34m,\u001b[0m \u001b[0mname\u001b[0m\u001b[0;34m:\u001b[0m \u001b[0mstr\u001b[0m\u001b[0;34m,\u001b[0m \u001b[0mvalue\u001b[0m\u001b[0;34m)\u001b[0m \u001b[0;34m->\u001b[0m \u001b[0;32mNone\u001b[0m\u001b[0;34m:\u001b[0m\u001b[0;34m\u001b[0m\u001b[0;34m\u001b[0m\u001b[0m\n",
            "\u001b[0;31mAttributeError\u001b[0m: 'DataFrame' object has no attribute 'unique'"
          ]
        }
      ]
    },
    {
      "cell_type": "code",
      "metadata": {
        "id": "2JszMSS-1M7c"
      },
      "source": [
        "df = pd.DataFrame(question1)\n",
        "df.describe()"
      ],
      "execution_count": null,
      "outputs": []
    },
    {
      "cell_type": "code",
      "metadata": {
        "id": "MBD1PQaL4gve"
      },
      "source": [
        "question2 = np.reshape(question1,newshape=(40,))"
      ],
      "execution_count": null,
      "outputs": []
    },
    {
      "cell_type": "code",
      "metadata": {
        "id": "49ssY-3G52GE"
      },
      "source": [
        "(unique, counts) = np.unique(question1, return_counts=True)\n",
        "frequencies = np.asarray((unique, counts)).T\n",
        "frequencies"
      ],
      "execution_count": null,
      "outputs": []
    }
  ]
}
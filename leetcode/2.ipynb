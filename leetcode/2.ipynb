{
 "cells": [
  {
   "cell_type": "code",
   "execution_count": 23,
   "metadata": {},
   "outputs": [
    {
     "data": {
      "text/plain": [
       "[9, 9, 9, 9, 0, 0, 0]"
      ]
     },
     "execution_count": 23,
     "metadata": {},
     "output_type": "execute_result"
    }
   ],
   "source": [
    "l1 = [9]*7\n",
    "l2 = [9]*4\n",
    "l1_len = len(l1)\n",
    "l2_len = len(l2)\n",
    "total_0 = l1_len - l2_len\n",
    "for i in range(total_0):\n",
    "    l2.append(0)\n",
    "l2"
   ]
  },
  {
   "cell_type": "code",
   "execution_count": 24,
   "metadata": {},
   "outputs": [
    {
     "data": {
      "text/plain": [
       "[0, 0, 0, 0, 0, 0, 0]"
      ]
     },
     "execution_count": 24,
     "metadata": {},
     "output_type": "execute_result"
    }
   ],
   "source": [
    "l3 = [0]*(l1_len)\n",
    "l3"
   ]
  },
  {
   "cell_type": "code",
   "execution_count": 25,
   "metadata": {},
   "outputs": [
    {
     "name": "stdout",
     "output_type": "stream",
     "text": [
      "[8, 9, 9, 9, 0, 0, 0, 1]\n"
     ]
    }
   ],
   "source": [
    "sum = 0\n",
    "for i in range(len(l1)):\n",
    "    sum += l1[i] + l2[i]\n",
    "    if sum >= 10:\n",
    "        l3[i] = (sum % 10)\n",
    "        sum = 1\n",
    "    else:\n",
    "        l3[i] = (sum)\n",
    "        sum = 0\n",
    "    if i == len(l1)-1 and sum == 1:\n",
    "        l3.append(1)\n",
    "print(l3)"
   ]
  },
  {
   "cell_type": "code",
   "execution_count": 56,
   "metadata": {},
   "outputs": [],
   "source": [
    "\n",
    "class Solution(object):\n",
    "\n",
    "    def addTwoNumbers(self, l1, l2):\n",
    "        \"\"\"\n",
    "        :type l1: ListNode\n",
    "        :type l2: ListNode\n",
    "        :rtype: ListNode\n",
    "        \"\"\"\n",
    "        if (len(l1) < len(l2)):\n",
    "            l1, l2 = l2, l1\n",
    "        l1_len = len(l1)\n",
    "        l2_len = len(l2)\n",
    "        total_0 = l1_len - l2_len\n",
    "        for i in range(total_0):\n",
    "            l2.append(0)\n",
    "        l3 = [0]*(l1_len)\n",
    "        sum = 0\n",
    "        for i in range(len(l1)):\n",
    "            sum += l1[i] + l2[i]\n",
    "            if sum >= 10:\n",
    "                l3[i] = (sum % 10)\n",
    "                sum = 1\n",
    "            else:\n",
    "                l3[i] = (sum)\n",
    "                sum = 0\n",
    "            if i == len(l1)-1 and sum == 1:\n",
    "                l3.append(1)\n",
    "        print(l3)"
   ]
  },
  {
   "cell_type": "code",
   "execution_count": 57,
   "metadata": {},
   "outputs": [
    {
     "name": "stdout",
     "output_type": "stream",
     "text": [
      "[3, 3]\n"
     ]
    }
   ],
   "source": [
    "c = Solution()\n",
    "c.addTwoNumbers([1], [2, 3])"
   ]
  },
  {
   "cell_type": "code",
   "execution_count": 60,
   "metadata": {},
   "outputs": [
    {
     "ename": "NameError",
     "evalue": "name 'ListNode' is not defined",
     "output_type": "error",
     "traceback": [
      "\u001b[1;31m---------------------------------------------------------------------------\u001b[0m",
      "\u001b[1;31mNameError\u001b[0m                                 Traceback (most recent call last)",
      "Cell \u001b[1;32mIn[60], line 1\u001b[0m\n\u001b[1;32m----> 1\u001b[0m \u001b[43mListNode\u001b[49m(\u001b[38;5;241m0\u001b[39m)\n",
      "\u001b[1;31mNameError\u001b[0m: name 'ListNode' is not defined"
     ]
    }
   ],
   "source": [
    "ListNode(0)"
   ]
  },
  {
   "cell_type": "code",
   "execution_count": null,
   "metadata": {},
   "outputs": [],
   "source": [
    "\n",
    "class Solution(object):\n",
    "    @staticmethod\n",
    "    def len( node):\n",
    "      count = 0\n",
    "      while node:\n",
    "         count +=1\n",
    "         node=node.next\n",
    "      return count\n",
    "    def addTwoNumbers(self, l1, l2):\n",
    "        \"\"\"\n",
    "        :type l1: ListNode\n",
    "        :type l2: ListNode\n",
    "        :rtype: ListNode\n",
    "        \"\"\"\n",
    "\n",
    "        # if (len(l1) < len(l2)):\n",
    "        #     l1, l2 = l2, l1\n",
    "        # l1_len = len(l1)\n",
    "        # l2_len = len(l2)\n",
    "        # total_0 = l1_len - l2_len\n",
    "        # for i in range(total_0):\n",
    "        #     l2.append(0)\n",
    "        # l3 = [0]*(l1_len)\n",
    "        # sum = 0\n",
    "        # for i in range(len(l1)):\n",
    "        #     sum += l1[i] + l2[i]\n",
    "        #     if sum >= 10:\n",
    "        #         l3[i] = (sum % 10)\n",
    "        #         sum = 1\n",
    "        #     else:\n",
    "        #         l3[i] = (sum)\n",
    "        #         sum = 0\n",
    "        #     if i == len(l1)-1 and sum == 1:\n",
    "        #         l3.append(1)\n",
    "        # return l3\n",
    "        "
   ]
  },
  {
   "cell_type": "code",
   "execution_count": 65,
   "metadata": {},
   "outputs": [
    {
     "data": {
      "text/plain": [
       "0"
      ]
     },
     "execution_count": 65,
     "metadata": {},
     "output_type": "execute_result"
    }
   ],
   "source": [
    "# Definition for singly-linked list.\n",
    "class ListNode(object):\n",
    "    def __init__(self, val=0, next=None):\n",
    "        self.val = val\n",
    "        self.next = next\n",
    "\n",
    "    def len(self):\n",
    "        count = 0\n",
    "        while (self.next):\n",
    "            count += 1\n",
    "        return count\n",
    "\n",
    "\n",
    "class Solution(object):\n",
    "    def addTwoNumbers(self, l1, l2):\n",
    "        \"\"\"\n",
    "        :type l1: ListNode\n",
    "        :type l2: ListNode\n",
    "        :rtype: ListNode\n",
    "        \"\"\"\n",
    "\n",
    "\n",
    "l1 = ListNode([4, 5, 6])\n",
    "l1.len()"
   ]
  },
  {
   "cell_type": "code",
   "execution_count": null,
   "metadata": {},
   "outputs": [],
   "source": [
    "class Node:\n",
    "    def __init__(self, data=None, next=None):\n",
    "        self.data = data\n",
    "        self.next = next\n",
    "\n",
    "class LinkedList:\n",
    "    def __init__(self):\n",
    "        self.head = None\n",
    "\n",
    "    def print(self):\n",
    "        if self.head is None:\n",
    "            print(\"Linked list is empty\")\n",
    "            return\n",
    "        itr = self.head\n",
    "        llstr = ''\n",
    "        while itr:\n",
    "            llstr += str(itr.data)+' --> ' if itr.next else str(itr.data)\n",
    "            itr = itr.next\n",
    "        print(llstr)\n",
    "\n",
    "    def get_length(self):\n",
    "        count = 0\n",
    "        itr = self.head\n",
    "        while itr:\n",
    "            count+=1\n",
    "            itr = itr.next\n",
    "\n",
    "        return count\n",
    "\n",
    "    def insert_at_begining(self, data):\n",
    "        node = Node(data, self.head)\n",
    "        self.head = node\n",
    "\n",
    "    def insert_at_end(self, data):\n",
    "        if self.head is None:\n",
    "            self.head = Node(data, None)\n",
    "            return\n",
    "\n",
    "        itr = self.head\n",
    "\n",
    "        while itr.next:\n",
    "            itr = itr.next\n",
    "\n",
    "        itr.next = Node(data, None)\n",
    "\n",
    "    def insert_at(self, index, data):\n",
    "        if index<0 or index>self.get_length():\n",
    "            raise Exception(\"Invalid Index\")\n",
    "\n",
    "        if index==0:\n",
    "            self.insert_at_begining(data)\n",
    "            return\n",
    "\n",
    "        count = 0\n",
    "        itr = self.head\n",
    "        while itr:\n",
    "            if count == index - 1:\n",
    "                node = Node(data, itr.next)\n",
    "                itr.next = node\n",
    "                break\n",
    "\n",
    "            itr = itr.next\n",
    "            count += 1\n",
    "\n",
    "    def remove_at(self, index):\n",
    "        if index<0 or index>=self.get_length():\n",
    "            raise Exception(\"Invalid Index\")\n",
    "\n",
    "        if index==0:\n",
    "            self.head = self.head.next\n",
    "            return\n",
    "\n",
    "        count = 0\n",
    "        itr = self.head\n",
    "        while itr:\n",
    "            if count == index - 1:\n",
    "                itr.next = itr.next.next\n",
    "                break\n",
    "\n",
    "            itr = itr.next\n",
    "            count+=1\n",
    "\n",
    "    def insert_values(self, data_list):\n",
    "        self.head = None\n",
    "        for data in data_list:\n",
    "            self.insert_at_end(data)\n",
    "\n",
    "\n",
    "if __name__ == '__main__':\n",
    "    ll = LinkedList()\n",
    "    ll.insert_values([\"banana\",\"mango\",\"grapes\",\"orange\"])\n",
    "    ll.insert_at(1,\"blueberry\")\n",
    "    ll.remove_at(2)\n",
    "    ll.print()\n",
    "\n",
    "    ll.insert_values([45,7,12,567,99])\n",
    "    ll.insert_at_end(67)\n",
    "    ll.print()"
   ]
  },
  {
   "cell_type": "code",
   "execution_count": 71,
   "metadata": {},
   "outputs": [
    {
     "name": "stdout",
     "output_type": "stream",
     "text": [
      "\u001b[1;31mDocstring:\u001b[0m\n",
      "reduce(function, iterable[, initial]) -> value\n",
      "\n",
      "Apply a function of two arguments cumulatively to the items of a sequence\n",
      "or iterable, from left to right, so as to reduce the iterable to a single\n",
      "value.  For example, reduce(lambda x, y: x+y, [1, 2, 3, 4, 5]) calculates\n",
      "((((1+2)+3)+4)+5).  If initial is present, it is placed before the items\n",
      "of the iterable in the calculation, and serves as a default when the\n",
      "iterable is empty.\n",
      "\u001b[1;31mType:\u001b[0m      builtin_function_or_method"
     ]
    }
   ],
   "source": [
    "from functools import reduce\n",
    "reduce?"
   ]
  },
  {
   "cell_type": "code",
   "execution_count": 84,
   "metadata": {},
   "outputs": [
    {
     "name": "stdout",
     "output_type": "stream",
     "text": [
      "4\n"
     ]
    },
    {
     "data": {
      "text/plain": [
       "2.5"
      ]
     },
     "execution_count": 84,
     "metadata": {},
     "output_type": "execute_result"
    }
   ],
   "source": [
    "from functools import reduce\n",
    "\n",
    "\n",
    "class Solution(object):\n",
    "    def findMedianSortedArrays(self, nums1, nums2):\n",
    "        \"\"\"\n",
    "        :type nums1: List[int]\n",
    "        :type nums2: List[int]\n",
    "        :rtype: float\n",
    "        \"\"\"\n",
    "        merged_array = sorted(nums1+nums2)\n",
    "        i = len(merged_array)\n",
    "        print(i)\n",
    "        if i % 2 != 0:\n",
    "            # For Odd elements in merged_array\n",
    "            median = merged_array[i//2]\n",
    "        else:\n",
    "            median = (merged_array[i//2-1] + merged_array[i//2])/2\n",
    "        return median\n",
    "\n",
    "\n",
    "a = Solution()\n",
    "a.findMedianSortedArrays([1, 3], [2, 4])"
   ]
  },
  {
   "cell_type": "code",
   "execution_count": null,
   "metadata": {},
   "outputs": [],
   "source": []
  }
 ],
 "metadata": {
  "kernelspec": {
   "display_name": "Python 3",
   "language": "python",
   "name": "python3"
  },
  "language_info": {
   "codemirror_mode": {
    "name": "ipython",
    "version": 3
   },
   "file_extension": ".py",
   "mimetype": "text/x-python",
   "name": "python",
   "nbconvert_exporter": "python",
   "pygments_lexer": "ipython3",
   "version": "3.12.3"
  }
 },
 "nbformat": 4,
 "nbformat_minor": 2
}

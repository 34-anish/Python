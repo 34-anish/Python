{
 "cells": [
  {
   "cell_type": "markdown",
   "metadata": {},
   "source": [
    "# Sets"
   ]
  },
  {
   "cell_type": "code",
   "execution_count": 2,
   "metadata": {},
   "outputs": [],
   "source": [
    "a =set()\n",
    "a.add(1)\n",
    "a.add(2)\n",
    "a.add(4)\n",
    "a.remove(4)"
   ]
  },
  {
   "cell_type": "code",
   "execution_count": 3,
   "metadata": {},
   "outputs": [
    {
     "data": {
      "text/plain": [
       "{1, 2}"
      ]
     },
     "execution_count": 3,
     "metadata": {},
     "output_type": "execute_result"
    }
   ],
   "source": [
    "a"
   ]
  },
  {
   "cell_type": "code",
   "execution_count": 4,
   "metadata": {},
   "outputs": [
    {
     "data": {
      "text/plain": [
       "{1, 2}"
      ]
     },
     "execution_count": 4,
     "metadata": {},
     "output_type": "execute_result"
    }
   ],
   "source": [
    "\n",
    "a.discard(4)\n",
    "a"
   ]
  },
  {
   "cell_type": "code",
   "execution_count": 5,
   "metadata": {},
   "outputs": [
    {
     "ename": "KeyError",
     "evalue": "4",
     "output_type": "error",
     "traceback": [
      "\u001b[1;31m---------------------------------------------------------------------------\u001b[0m",
      "\u001b[1;31mKeyError\u001b[0m                                  Traceback (most recent call last)",
      "Cell \u001b[1;32mIn[5], line 1\u001b[0m\n\u001b[1;32m----> 1\u001b[0m \u001b[43ma\u001b[49m\u001b[38;5;241;43m.\u001b[39;49m\u001b[43mremove\u001b[49m\u001b[43m(\u001b[49m\u001b[38;5;241;43m4\u001b[39;49m\u001b[43m)\u001b[49m\n\u001b[0;32m      2\u001b[0m a\n",
      "\u001b[1;31mKeyError\u001b[0m: 4"
     ]
    }
   ],
   "source": [
    "# a.remove(4) # Error\n",
    "# a"
   ]
  },
  {
   "cell_type": "code",
   "execution_count": 7,
   "metadata": {},
   "outputs": [
    {
     "data": {
      "text/plain": [
       "({2}, {1, 3, 4, 6})"
      ]
     },
     "execution_count": 7,
     "metadata": {},
     "output_type": "execute_result"
    }
   ],
   "source": [
    "s1 = {1,2,3}\n",
    "s2={2,4,6}\n",
    "s1.intersection(s2),s1.symmetric_difference(s2)"
   ]
  },
  {
   "cell_type": "code",
   "execution_count": 8,
   "metadata": {},
   "outputs": [
    {
     "data": {
      "text/plain": [
       "({2, 3}, {2, 3})"
      ]
     },
     "execution_count": 8,
     "metadata": {},
     "output_type": "execute_result"
    }
   ],
   "source": [
    "s3 = s1\n",
    "s3.pop()\n",
    "s3,s1"
   ]
  },
  {
   "cell_type": "markdown",
   "metadata": {},
   "source": [
    "Hence, we use `copy()`"
   ]
  },
  {
   "cell_type": "markdown",
   "metadata": {},
   "source": [
    "Set is mutable , however the forzen set is immutable "
   ]
  },
  {
   "cell_type": "code",
   "execution_count": 9,
   "metadata": {},
   "outputs": [],
   "source": [
    "a = frozenset([0, 1, 2, 3, 4])\n",
    "\n",
    "# The following is not allowed:\n",
    "# a.add(5)\n",
    "# a.remove(1)\n",
    "# a.discard(1)\n",
    "# a.clear()\n"
   ]
  },
  {
   "cell_type": "code",
   "execution_count": 12,
   "metadata": {},
   "outputs": [
    {
     "data": {
      "text/plain": [
       "(frozenset({2, 3}), {2, 3})"
      ]
     },
     "execution_count": 12,
     "metadata": {},
     "output_type": "execute_result"
    }
   ],
   "source": [
    "a.intersection(s1),s1.intersection(a)"
   ]
  },
  {
   "cell_type": "markdown",
   "metadata": {},
   "source": [
    "# String"
   ]
  },
  {
   "cell_type": "code",
   "execution_count": 14,
   "metadata": {},
   "outputs": [
    {
     "name": "stdout",
     "output_type": "stream",
     "text": [
      "     Hello World \n",
      "Hello World\n",
      "11\n",
      "HELLO WORLD\n",
      "hello world\n"
     ]
    }
   ],
   "source": [
    "my_string = \"     Hello World \"\n",
    "\n",
    "# remove white space\n",
    "print(my_string)\n",
    "my_string = my_string.strip()\n",
    "print(my_string)\n",
    "\n",
    "# number of characters\n",
    "print(len(my_string))\n",
    "\n",
    "# Upper and lower cases\n",
    "print(my_string.upper())\n",
    "print(my_string.lower())\n",
    "\n"
   ]
  },
  {
   "cell_type": "code",
   "execution_count": 24,
   "metadata": {},
   "outputs": [
    {
     "name": "stdout",
     "output_type": "stream",
     "text": [
      "True\n",
      "True\n",
      "4\n",
      "2\n",
      "Hello Universe\n",
      "['how', 'are', 'you', 'doing']\n",
      "['one', 'two', 'three']\n"
     ]
    }
   ],
   "source": [
    "# startswith and endswith\n",
    "print(\"hello\".startswith(\"he\"))\n",
    "print(\"hello\".endswith(\"llo\"))\n",
    "\n",
    "# find first index of a given substring, -1 otherwise\n",
    "print(\"Hello\".find(\"o\"))\n",
    "\n",
    "# count number of characters/substrings\n",
    "print(\"Hello\".count(\"l\"))\n",
    "\n",
    "# replace a substring with another string (only if the substring is found)\n",
    "# Note: The original string stays the same\n",
    "message = \"Hello World\"\n",
    "new_message = message.replace(\"World\", \"Universe\")\n",
    "print(new_message)\n",
    "\n",
    "# split the string into a list\n",
    "my_string = \"how are you doing\"\n",
    "a = my_string.split() # default argument is \" \"\n",
    "print(a)\n",
    "my_string = \"one,two,three\"\n",
    "a = my_string.split(\",\")\n",
    "print(a)\n",
    "\n"
   ]
  },
  {
   "cell_type": "code",
   "execution_count": 17,
   "metadata": {},
   "outputs": [
    {
     "name": "stdout",
     "output_type": "stream",
     "text": [
      "How are you doing\n"
     ]
    }
   ],
   "source": [
    "# join elements of a list into a string\n",
    "my_list = ['How', 'are', 'you', 'doing']\n",
    "a = ' '.join(my_list) # the given string is the separator, e.g. ' ' between each argument\n",
    "print(a)"
   ]
  },
  {
   "cell_type": "code",
   "execution_count": 18,
   "metadata": {},
   "outputs": [
    {
     "data": {
      "text/plain": [
       "str"
      ]
     },
     "execution_count": 18,
     "metadata": {},
     "output_type": "execute_result"
    }
   ],
   "source": [
    "type(a)"
   ]
  },
  {
   "cell_type": "code",
   "execution_count": 21,
   "metadata": {},
   "outputs": [
    {
     "name": "stdout",
     "output_type": "stream",
     "text": [
      "Hello Tom and Bob\n"
     ]
    }
   ],
   "source": [
    "# use braces as placeholders\n",
    "a = \"Hello {1} and {0}\".format(\"Bob\", \"Tom\")\n",
    "print(a)"
   ]
  },
  {
   "cell_type": "code",
   "execution_count": 32,
   "metadata": {},
   "outputs": [
    {
     "name": "stdout",
     "output_type": "stream",
     "text": [
      "The float value is 2.123\n",
      "The float value is 2.123213e+00\n",
      "The float value is 2.123213124324\n",
      "The binary value is -10\n",
      "Hello, Eric. You are 25.\n",
      "Pi is 3.142\n",
      "The value is 120\n"
     ]
    }
   ],
   "source": [
    "# some special format rules for numbers\n",
    "a = \"The float value is {0:.3f}\".format(2.1234)\n",
    "print(a)\n",
    "a = \"The float value is {:e}\".format(2.123213124324)\n",
    "print(a)\n",
    "a = \"The float value is {}\".format(2.123213124324)\n",
    "print(a)\n",
    "a = \"The binary value is {:b}\".format(-2)\n",
    "print(a)\n",
    "name = \"Eric\"\n",
    "age = 25\n",
    "a = f\"Hello, {name}. You are {age}.\"\n",
    "print(a)\n",
    "pi = 3.14159\n",
    "a = f\"Pi is {pi:.3f}\"\n",
    "print(a)\n",
    "# f-Strings are evaluated at runtime, which allows expressions\n",
    "a = f\"The value is {2*60}\"\n",
    "print(a)"
   ]
  },
  {
   "cell_type": "code",
   "execution_count": 54,
   "metadata": {},
   "outputs": [
    {
     "name": "stdout",
     "output_type": "stream",
     "text": [
      "2 in decimal is 10\n"
     ]
    }
   ],
   "source": [
    "print(f\"2 in decimal is {2:b}\")"
   ]
  },
  {
   "cell_type": "markdown",
   "metadata": {},
   "source": [
    "# Collections"
   ]
  },
  {
   "cell_type": "code",
   "execution_count": 55,
   "metadata": {},
   "outputs": [
    {
     "name": "stdout",
     "output_type": "stream",
     "text": [
      "Counter({'a': 5, 'b': 4, 'c': 3, 'd': 2, 'e': 1})\n",
      "dict_items([('a', 5), ('b', 4), ('c', 3), ('d', 2), ('e', 1)])\n",
      "dict_keys(['a', 'b', 'c', 'd', 'e'])\n",
      "dict_values([5, 4, 3, 2, 1])\n",
      "Counter({1: 4, 2: 3, 0: 2, 3: 2, 4: 1})\n",
      "[(1, 4)]\n",
      "[0, 0, 1, 1, 1, 1, 2, 2, 2, 3, 3, 4]\n"
     ]
    }
   ],
   "source": [
    "from collections import Counter\n",
    "a = \"aaaaabbbbcccdde\"\n",
    "my_counter = Counter(a)\n",
    "print(my_counter)\n",
    "\n",
    "print(my_counter.items())\n",
    "print(my_counter.keys())\n",
    "print(my_counter.values())\n",
    "\n",
    "my_list = [0, 1, 0, 1, 2, 1, 1, 3, 2, 3, 2, 4]\n",
    "my_counter = Counter(my_list)\n",
    "print(my_counter)\n",
    "\n",
    "# most common items\n",
    "print(my_counter.most_common(1))\n",
    "\n",
    "# Return an iterator over elements repeating each as many times as its count. \n",
    "# Elements are returned in arbitrary order.\n",
    "print(list(my_counter.elements()))"
   ]
  },
  {
   "cell_type": "markdown",
   "metadata": {},
   "source": [
    "NamedTuple"
   ]
  },
  {
   "cell_type": "code",
   "execution_count": 56,
   "metadata": {},
   "outputs": [
    {
     "name": "stdout",
     "output_type": "stream",
     "text": [
      "Point(x=1, y=-4)\n",
      "('x', 'y')\n",
      "<class '__main__.Point'>\n",
      "1 -4\n",
      "Tom 25\n"
     ]
    }
   ],
   "source": [
    "from collections import namedtuple\n",
    "# create a namedtuple with its class name as string and its fields as string\n",
    "# fields have to be separated by comma or space in the given string\n",
    "Point = namedtuple('Point','x, y')\n",
    "pt = Point(1, -4)\n",
    "print(pt)\n",
    "print(pt._fields)\n",
    "print(type(pt))\n",
    "print(pt.x, pt.y)\n",
    "\n",
    "Person = namedtuple('Person','name, age')\n",
    "friend = Person(name='Tom', age=25)\n",
    "print(friend.name, friend.age)"
   ]
  },
  {
   "cell_type": "code",
   "execution_count": null,
   "metadata": {},
   "outputs": [],
   "source": []
  }
 ],
 "metadata": {
  "kernelspec": {
   "display_name": "Python 3",
   "language": "python",
   "name": "python3"
  },
  "language_info": {
   "codemirror_mode": {
    "name": "ipython",
    "version": 3
   },
   "file_extension": ".py",
   "mimetype": "text/x-python",
   "name": "python",
   "nbconvert_exporter": "python",
   "pygments_lexer": "ipython3",
   "version": "3.12.3"
  }
 },
 "nbformat": 4,
 "nbformat_minor": 2
}

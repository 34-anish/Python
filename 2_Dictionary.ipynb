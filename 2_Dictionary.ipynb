{
  "nbformat": 4,
  "nbformat_minor": 0,
  "metadata": {
    "colab": {
      "name": "Python.ipynb",
      "provenance": [],
      "collapsed_sections": [],
      "toc_visible": true,
      "authorship_tag": "ABX9TyNkumguHeXgWl2+KxSc+rD7",
      "include_colab_link": true
    },
    "kernelspec": {
      "name": "python3",
      "display_name": "Python 3"
    },
    "language_info": {
      "name": "python"
    }
  },
  "cells": [
    {
      "cell_type": "markdown",
      "metadata": {
        "id": "view-in-github",
        "colab_type": "text"
      },
      "source": [
        "<a href=\"https://colab.research.google.com/github/34-anish/Python/blob/main/2_Dictionary.ipynb\" target=\"_parent\"><img src=\"https://colab.research.google.com/assets/colab-badge.svg\" alt=\"Open In Colab\"/></a>"
      ]
    },
    {
      "cell_type": "markdown",
      "source": [
        "#Dictionary and Tuple\n"
      ],
      "metadata": {
        "id": "KloqYFPBhC9N"
      }
    },
    {
      "cell_type": "code",
      "source": [
        "capital ={\n",
        "    'Nepal':'Kathmandu',\n",
        "    'China':'Bejing'\n",
        "}"
      ],
      "metadata": {
        "id": "NOZSitEFhFqg"
      },
      "execution_count": 41,
      "outputs": []
    },
    {
      "cell_type": "code",
      "source": [
        "capital.keys()"
      ],
      "metadata": {
        "colab": {
          "base_uri": "https://localhost:8080/"
        },
        "id": "oFXKGJWqhMNU",
        "outputId": "29ecbecc-161e-4c6d-f7b2-962f6116d49a"
      },
      "execution_count": 42,
      "outputs": [
        {
          "output_type": "execute_result",
          "data": {
            "text/plain": [
              "dict_keys(['Nepal', 'China'])"
            ]
          },
          "metadata": {},
          "execution_count": 42
        }
      ]
    },
    {
      "cell_type": "code",
      "source": [
        "capital.values()"
      ],
      "metadata": {
        "colab": {
          "base_uri": "https://localhost:8080/"
        },
        "id": "WCS11QTchzVB",
        "outputId": "92ab46c3-af5b-4399-d848-8f6a1d6fa30c"
      },
      "execution_count": 43,
      "outputs": [
        {
          "output_type": "execute_result",
          "data": {
            "text/plain": [
              "dict_values(['Kathmandu', 'Bejing'])"
            ]
          },
          "metadata": {},
          "execution_count": 43
        }
      ]
    },
    {
      "cell_type": "code",
      "source": [
        "capital.items()"
      ],
      "metadata": {
        "colab": {
          "base_uri": "https://localhost:8080/"
        },
        "id": "LE5dPhySiWRV",
        "outputId": "a52c4fdf-5c6b-4dff-cc56-7f6efa4474ca"
      },
      "execution_count": 44,
      "outputs": [
        {
          "output_type": "execute_result",
          "data": {
            "text/plain": [
              "dict_items([('Nepal', 'Kathmandu'), ('China', 'Bejing')])"
            ]
          },
          "metadata": {},
          "execution_count": 44
        }
      ]
    },
    {
      "cell_type": "markdown",
      "source": [
        ".items() is frequently used for looping"
      ],
      "metadata": {
        "id": "IV3HqIR7iyBl"
      }
    },
    {
      "cell_type": "code",
      "source": [
        "for country , capital_city in capital.items():\n",
        "  print(country,\"=>\",capital_city)"
      ],
      "metadata": {
        "colab": {
          "base_uri": "https://localhost:8080/"
        },
        "id": "ICfP8dJAicUA",
        "outputId": "477c552d-8985-486d-c85f-41778b8d0e88"
      },
      "execution_count": 45,
      "outputs": [
        {
          "output_type": "stream",
          "name": "stdout",
          "text": [
            "Nepal => Kathmandu\n",
            "China => Bejing\n"
          ]
        }
      ]
    },
    {
      "cell_type": "markdown",
      "source": [
        "Dictionary stores key-value pairs"
      ],
      "metadata": {
        "id": "SvO13kUyh3R6"
      }
    },
    {
      "cell_type": "markdown",
      "source": [
        "#To add and remove key value pair"
      ],
      "metadata": {
        "id": "sMVDEjsOiBne"
      }
    },
    {
      "cell_type": "code",
      "source": [
        "capital['India'] = 'New Delhi'"
      ],
      "metadata": {
        "id": "-jQgEX0fiGX9"
      },
      "execution_count": 46,
      "outputs": []
    },
    {
      "cell_type": "code",
      "source": [
        "capital"
      ],
      "metadata": {
        "colab": {
          "base_uri": "https://localhost:8080/"
        },
        "id": "xf-lC5JHiJJW",
        "outputId": "f1531c19-a394-453a-b154-ed0a437cc12e"
      },
      "execution_count": 47,
      "outputs": [
        {
          "output_type": "execute_result",
          "data": {
            "text/plain": [
              "{'China': 'Bejing', 'India': 'New Delhi', 'Nepal': 'Kathmandu'}"
            ]
          },
          "metadata": {},
          "execution_count": 47
        }
      ]
    },
    {
      "cell_type": "code",
      "source": [
        "del capital['Nepal']"
      ],
      "metadata": {
        "id": "xiKIKUuMiMUb"
      },
      "execution_count": 48,
      "outputs": []
    },
    {
      "cell_type": "code",
      "source": [
        "capital"
      ],
      "metadata": {
        "colab": {
          "base_uri": "https://localhost:8080/"
        },
        "id": "Vyd72bhwiQWX",
        "outputId": "a3883b8c-28e2-41f5-d412-2713494007cb"
      },
      "execution_count": 49,
      "outputs": [
        {
          "output_type": "execute_result",
          "data": {
            "text/plain": [
              "{'China': 'Bejing', 'India': 'New Delhi'}"
            ]
          },
          "metadata": {},
          "execution_count": 49
        }
      ]
    },
    {
      "cell_type": "markdown",
      "source": [
        "**in** operator is used checking"
      ],
      "metadata": {
        "id": "Fc_oMvDsjA9D"
      }
    },
    {
      "cell_type": "code",
      "source": [
        "'Nepal' in capital"
      ],
      "metadata": {
        "colab": {
          "base_uri": "https://localhost:8080/"
        },
        "id": "vkkKrCC2jXBX",
        "outputId": "6834e15f-2242-4c16-99f3-032e8084cd24"
      },
      "execution_count": 50,
      "outputs": [
        {
          "output_type": "execute_result",
          "data": {
            "text/plain": [
              "False"
            ]
          },
          "metadata": {},
          "execution_count": 50
        }
      ]
    },
    {
      "cell_type": "code",
      "source": [
        "'India' in capital"
      ],
      "metadata": {
        "colab": {
          "base_uri": "https://localhost:8080/"
        },
        "id": "mk71eieEjZeA",
        "outputId": "1ff2f74a-bb1a-4c10-c40e-96dc848fe785"
      },
      "execution_count": 51,
      "outputs": [
        {
          "output_type": "execute_result",
          "data": {
            "text/plain": [
              "True"
            ]
          },
          "metadata": {},
          "execution_count": 51
        }
      ]
    },
    {
      "cell_type": "markdown",
      "source": [
        "#Tuples\n"
      ],
      "metadata": {
        "id": "vQwAdUsNjd12"
      }
    },
    {
      "cell_type": "code",
      "source": [
        "point = (1,2,3)"
      ],
      "metadata": {
        "id": "JlWZO9Qcjfv4"
      },
      "execution_count": 52,
      "outputs": []
    },
    {
      "cell_type": "code",
      "source": [
        "point"
      ],
      "metadata": {
        "colab": {
          "base_uri": "https://localhost:8080/"
        },
        "id": "y-I2B8I_jhyT",
        "outputId": "a0889dc0-4a84-4bff-ce71-bb51e5553fd5"
      },
      "execution_count": 53,
      "outputs": [
        {
          "output_type": "execute_result",
          "data": {
            "text/plain": [
              "(1, 2, 3)"
            ]
          },
          "metadata": {},
          "execution_count": 53
        }
      ]
    },
    {
      "cell_type": "markdown",
      "source": [
        "Tuples are immutable"
      ],
      "metadata": {
        "id": "QwYsgU6Gjknj"
      }
    },
    {
      "cell_type": "code",
      "source": [
        "point = (2,3,4)"
      ],
      "metadata": {
        "id": "EkYSJhuojohw"
      },
      "execution_count": 54,
      "outputs": []
    },
    {
      "cell_type": "code",
      "source": [
        "point[0] = 3"
      ],
      "metadata": {
        "colab": {
          "base_uri": "https://localhost:8080/",
          "height": 165
        },
        "id": "fO11Z_aqjrOH",
        "outputId": "9880c31c-c40f-4adb-fcad-67c5b05c0d65"
      },
      "execution_count": 55,
      "outputs": [
        {
          "output_type": "error",
          "ename": "TypeError",
          "evalue": "ignored",
          "traceback": [
            "\u001b[0;31m---------------------------------------------------------------------------\u001b[0m",
            "\u001b[0;31mTypeError\u001b[0m                                 Traceback (most recent call last)",
            "\u001b[0;32m<ipython-input-55-774c5d3caf10>\u001b[0m in \u001b[0;36m<module>\u001b[0;34m()\u001b[0m\n\u001b[0;32m----> 1\u001b[0;31m \u001b[0mpoint\u001b[0m\u001b[0;34m[\u001b[0m\u001b[0;36m0\u001b[0m\u001b[0;34m]\u001b[0m \u001b[0;34m=\u001b[0m \u001b[0;36m3\u001b[0m\u001b[0;34m\u001b[0m\u001b[0;34m\u001b[0m\u001b[0m\n\u001b[0m",
            "\u001b[0;31mTypeError\u001b[0m: 'tuple' object does not support item assignment"
          ]
        }
      ]
    }
  ]
}
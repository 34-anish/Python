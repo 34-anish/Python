{
  "cells": [
    {
      "cell_type": "markdown",
      "metadata": {
        "colab_type": "text",
        "id": "view-in-github"
      },
      "source": [
        "<a href=\"https://colab.research.google.com/github/34-anish/Python/blob/main/2_Dictionary.ipynb\" target=\"_parent\"><img src=\"https://colab.research.google.com/assets/colab-badge.svg\" alt=\"Open In Colab\"/></a>"
      ]
    },
    {
      "cell_type": "markdown",
      "metadata": {
        "id": "KloqYFPBhC9N"
      },
      "source": [
        "#Dictionary and Tuple\n"
      ]
    },
    {
      "cell_type": "code",
      "execution_count": 1,
      "metadata": {
        "id": "NOZSitEFhFqg"
      },
      "outputs": [],
      "source": [
        "capital ={\n",
        "    'Nepal':'Kathmandu',\n",
        "    'China':'Bejing'\n",
        "}"
      ]
    },
    {
      "cell_type": "code",
      "execution_count": 2,
      "metadata": {
        "colab": {
          "base_uri": "https://localhost:8080/"
        },
        "id": "oFXKGJWqhMNU",
        "outputId": "29ecbecc-161e-4c6d-f7b2-962f6116d49a"
      },
      "outputs": [
        {
          "data": {
            "text/plain": [
              "dict_keys(['Nepal', 'China'])"
            ]
          },
          "execution_count": 2,
          "metadata": {},
          "output_type": "execute_result"
        }
      ],
      "source": [
        "capital.keys()"
      ]
    },
    {
      "cell_type": "code",
      "execution_count": 3,
      "metadata": {
        "colab": {
          "base_uri": "https://localhost:8080/"
        },
        "id": "WCS11QTchzVB",
        "outputId": "92ab46c3-af5b-4399-d848-8f6a1d6fa30c"
      },
      "outputs": [
        {
          "data": {
            "text/plain": [
              "dict_values(['Kathmandu', 'Bejing'])"
            ]
          },
          "execution_count": 3,
          "metadata": {},
          "output_type": "execute_result"
        }
      ],
      "source": [
        "capital.values()"
      ]
    },
    {
      "cell_type": "code",
      "execution_count": 4,
      "metadata": {
        "colab": {
          "base_uri": "https://localhost:8080/"
        },
        "id": "LE5dPhySiWRV",
        "outputId": "a52c4fdf-5c6b-4dff-cc56-7f6efa4474ca"
      },
      "outputs": [
        {
          "data": {
            "text/plain": [
              "dict_items([('Nepal', 'Kathmandu'), ('China', 'Bejing')])"
            ]
          },
          "execution_count": 4,
          "metadata": {},
          "output_type": "execute_result"
        }
      ],
      "source": [
        "capital.items()"
      ]
    },
    {
      "cell_type": "markdown",
      "metadata": {
        "id": "IV3HqIR7iyBl"
      },
      "source": [
        ".items() is frequently used for looping"
      ]
    },
    {
      "cell_type": "code",
      "execution_count": 45,
      "metadata": {
        "colab": {
          "base_uri": "https://localhost:8080/"
        },
        "id": "ICfP8dJAicUA",
        "outputId": "477c552d-8985-486d-c85f-41778b8d0e88"
      },
      "outputs": [
        {
          "name": "stdout",
          "output_type": "stream",
          "text": [
            "Nepal => Kathmandu\n",
            "China => Bejing\n"
          ]
        }
      ],
      "source": [
        "for country , capital_city in capital.items():\n",
        "  print(country,\"=>\",capital_city)"
      ]
    },
    {
      "cell_type": "markdown",
      "metadata": {
        "id": "SvO13kUyh3R6"
      },
      "source": [
        "Dictionary stores key-value pairs"
      ]
    },
    {
      "cell_type": "markdown",
      "metadata": {
        "id": "sMVDEjsOiBne"
      },
      "source": [
        "#To add and remove key value pair"
      ]
    },
    {
      "cell_type": "code",
      "execution_count": 46,
      "metadata": {
        "id": "-jQgEX0fiGX9"
      },
      "outputs": [],
      "source": [
        "capital['India'] = 'New Delhi'"
      ]
    },
    {
      "cell_type": "code",
      "execution_count": 47,
      "metadata": {
        "colab": {
          "base_uri": "https://localhost:8080/"
        },
        "id": "xf-lC5JHiJJW",
        "outputId": "f1531c19-a394-453a-b154-ed0a437cc12e"
      },
      "outputs": [
        {
          "data": {
            "text/plain": [
              "{'China': 'Bejing', 'India': 'New Delhi', 'Nepal': 'Kathmandu'}"
            ]
          },
          "execution_count": 47,
          "metadata": {},
          "output_type": "execute_result"
        }
      ],
      "source": [
        "capital"
      ]
    },
    {
      "cell_type": "code",
      "execution_count": 48,
      "metadata": {
        "id": "xiKIKUuMiMUb"
      },
      "outputs": [],
      "source": [
        "del capital['Nepal']"
      ]
    },
    {
      "cell_type": "code",
      "execution_count": 49,
      "metadata": {
        "colab": {
          "base_uri": "https://localhost:8080/"
        },
        "id": "Vyd72bhwiQWX",
        "outputId": "a3883b8c-28e2-41f5-d412-2713494007cb"
      },
      "outputs": [
        {
          "data": {
            "text/plain": [
              "{'China': 'Bejing', 'India': 'New Delhi'}"
            ]
          },
          "execution_count": 49,
          "metadata": {},
          "output_type": "execute_result"
        }
      ],
      "source": [
        "capital"
      ]
    },
    {
      "cell_type": "markdown",
      "metadata": {
        "id": "Fc_oMvDsjA9D"
      },
      "source": [
        "**in** operator is used checking"
      ]
    },
    {
      "cell_type": "code",
      "execution_count": 50,
      "metadata": {
        "colab": {
          "base_uri": "https://localhost:8080/"
        },
        "id": "vkkKrCC2jXBX",
        "outputId": "6834e15f-2242-4c16-99f3-032e8084cd24"
      },
      "outputs": [
        {
          "data": {
            "text/plain": [
              "False"
            ]
          },
          "execution_count": 50,
          "metadata": {},
          "output_type": "execute_result"
        }
      ],
      "source": [
        "'Nepal' in capital"
      ]
    },
    {
      "cell_type": "code",
      "execution_count": 51,
      "metadata": {
        "colab": {
          "base_uri": "https://localhost:8080/"
        },
        "id": "mk71eieEjZeA",
        "outputId": "1ff2f74a-bb1a-4c10-c40e-96dc848fe785"
      },
      "outputs": [
        {
          "data": {
            "text/plain": [
              "True"
            ]
          },
          "execution_count": 51,
          "metadata": {},
          "output_type": "execute_result"
        }
      ],
      "source": [
        "'India' in capital"
      ]
    },
    {
      "cell_type": "markdown",
      "metadata": {},
      "source": [
        "# Explaning more"
      ]
    },
    {
      "cell_type": "markdown",
      "metadata": {},
      "source": [
        "`rams_dict = dict(name=\"Ram\",'age' = 24)` is an error "
      ]
    },
    {
      "cell_type": "code",
      "execution_count": 9,
      "metadata": {},
      "outputs": [
        {
          "data": {
            "text/plain": [
              "({'name': 'Alan', 'age': 22}, 22, {'name': 'Ram', 'age': 24})"
            ]
          },
          "execution_count": 9,
          "metadata": {},
          "output_type": "execute_result"
        }
      ],
      "source": [
        "alans_dict = {'name':'Alan','age':22}\n",
        "rams_dict = dict(name=\"Ram\",age = 24)\n",
        "alans_dict,alans_dict['age'],rams_dict"
      ]
    },
    {
      "cell_type": "code",
      "execution_count": null,
      "metadata": {},
      "outputs": [],
      "source": [
        "# rams_dict = dictionary(name=\"Ram\",age = 24) # Wrong Keyword"
      ]
    },
    {
      "cell_type": "code",
      "execution_count": 11,
      "metadata": {},
      "outputs": [
        {
          "data": {
            "text/plain": [
              "'Alan'"
            ]
          },
          "execution_count": 11,
          "metadata": {},
          "output_type": "execute_result"
        }
      ],
      "source": [
        "gunda = alans_dict['name']\n",
        "gunda"
      ]
    },
    {
      "cell_type": "code",
      "execution_count": 12,
      "metadata": {},
      "outputs": [
        {
          "data": {
            "text/plain": [
              "{'name': 'Aladin', 'age': 22}"
            ]
          },
          "execution_count": 12,
          "metadata": {},
          "output_type": "execute_result"
        }
      ],
      "source": [
        "alans_dict['name'] = 'Aladin'\n",
        "alans_dict"
      ]
    },
    {
      "cell_type": "code",
      "execution_count": 13,
      "metadata": {},
      "outputs": [],
      "source": [
        "del alans_dict"
      ]
    },
    {
      "cell_type": "code",
      "execution_count": 15,
      "metadata": {},
      "outputs": [
        {
          "data": {
            "text/plain": [
              "({'name': 'Ram', 'age': 24, 'marks': 40},\n",
              " {'name': 'Ram', 'age': 24, 'marks': 40})"
            ]
          },
          "execution_count": 15,
          "metadata": {},
          "output_type": "execute_result"
        }
      ],
      "source": [
        "aladins_dict = rams_dict\n",
        "aladins_dict['marks'] = 40\n",
        "aladins_dict,rams_dict"
      ]
    },
    {
      "cell_type": "code",
      "execution_count": 17,
      "metadata": {},
      "outputs": [],
      "source": [
        "aladins_marks = aladins_dict.popitem()"
      ]
    },
    {
      "cell_type": "code",
      "execution_count": 18,
      "metadata": {},
      "outputs": [
        {
          "data": {
            "text/plain": [
              "(('marks', 40), {'name': 'Ram', 'age': 24}, {'name': 'Ram', 'age': 24})"
            ]
          },
          "execution_count": 18,
          "metadata": {},
          "output_type": "execute_result"
        }
      ],
      "source": [
        "aladins_marks,aladins_dict,rams_dict"
      ]
    },
    {
      "cell_type": "code",
      "execution_count": 19,
      "metadata": {},
      "outputs": [
        {
          "name": "stdout",
          "output_type": "stream",
          "text": [
            "Ram\n"
          ]
        }
      ],
      "source": [
        "if 'name' in rams_dict:\n",
        "    print(rams_dict['name'])"
      ]
    },
    {
      "cell_type": "markdown",
      "metadata": {},
      "source": [
        "Looping"
      ]
    },
    {
      "cell_type": "markdown",
      "metadata": {},
      "source": [
        "```\n",
        "for item ,values in rams_dict:\n",
        "    print(item,values)\n",
        "```\n",
        "is an error"
      ]
    },
    {
      "cell_type": "code",
      "execution_count": 23,
      "metadata": {},
      "outputs": [
        {
          "name": "stdout",
          "output_type": "stream",
          "text": [
            "name\n",
            "age\n"
          ]
        }
      ],
      "source": [
        "for item in rams_dict:\n",
        "    print(item)\n"
      ]
    },
    {
      "cell_type": "code",
      "execution_count": 24,
      "metadata": {},
      "outputs": [
        {
          "name": "stdout",
          "output_type": "stream",
          "text": [
            "name\n",
            "age\n"
          ]
        }
      ],
      "source": [
        "for item in rams_dict.keys():\n",
        "    print(item)\n"
      ]
    },
    {
      "cell_type": "code",
      "execution_count": 25,
      "metadata": {},
      "outputs": [
        {
          "name": "stdout",
          "output_type": "stream",
          "text": [
            "Ram\n",
            "24\n"
          ]
        }
      ],
      "source": [
        "for value in rams_dict.values():\n",
        "    print(value)"
      ]
    },
    {
      "cell_type": "code",
      "execution_count": 27,
      "metadata": {},
      "outputs": [
        {
          "name": "stdout",
          "output_type": "stream",
          "text": [
            "name\n",
            "age\n"
          ]
        }
      ],
      "source": [
        "\n",
        "for (item,value) in rams_dict.items():\n",
        "    print(item)"
      ]
    },
    {
      "cell_type": "code",
      "execution_count": 28,
      "metadata": {},
      "outputs": [
        {
          "name": "stdout",
          "output_type": "stream",
          "text": [
            "('name', 'Ram')\n",
            "('age', 24)\n"
          ]
        }
      ],
      "source": [
        "\n",
        "for key_value_tuple in rams_dict.items():\n",
        "    print(key_value_tuple)"
      ]
    },
    {
      "cell_type": "code",
      "execution_count": 29,
      "metadata": {},
      "outputs": [
        {
          "data": {
            "text/plain": [
              "('Ram', {'age': 24}, {'name': 'Ram', 'age': 24})"
            ]
          },
          "execution_count": 29,
          "metadata": {},
          "output_type": "execute_result"
        }
      ],
      "source": [
        "copied_dict = rams_dict.copy()\n",
        "name = copied_dict.pop('name')\n",
        "name,copied_dict,rams_dict"
      ]
    },
    {
      "cell_type": "markdown",
      "metadata": {},
      "source": [
        "Key in Dictionary can only be immutable"
      ]
    },
    {
      "cell_type": "code",
      "execution_count": 31,
      "metadata": {},
      "outputs": [
        {
          "data": {
            "text/plain": [
              "{(8, 7): 15}"
            ]
          },
          "execution_count": 31,
          "metadata": {},
          "output_type": "execute_result"
        }
      ],
      "source": [
        "my_tuple = (8,7)\n",
        "sum_dict = {my_tuple : 15}\n",
        "sum_dict"
      ]
    },
    {
      "cell_type": "code",
      "execution_count": 33,
      "metadata": {},
      "outputs": [
        {
          "ename": "KeyError",
          "evalue": "'name'",
          "output_type": "error",
          "traceback": [
            "\u001b[1;31m---------------------------------------------------------------------------\u001b[0m",
            "\u001b[1;31mKeyError\u001b[0m                                  Traceback (most recent call last)",
            "Cell \u001b[1;32mIn[33], line 1\u001b[0m\n\u001b[1;32m----> 1\u001b[0m \u001b[43msum_dict\u001b[49m\u001b[43m[\u001b[49m\u001b[38;5;124;43m'\u001b[39;49m\u001b[38;5;124;43mname\u001b[39;49m\u001b[38;5;124;43m'\u001b[39;49m\u001b[43m]\u001b[49m\n",
            "\u001b[1;31mKeyError\u001b[0m: 'name'"
          ]
        }
      ],
      "source": [
        "# sum_dict['name'] # Keyvalue pair error"
      ]
    },
    {
      "cell_type": "code",
      "execution_count": 32,
      "metadata": {},
      "outputs": [
        {
          "ename": "TypeError",
          "evalue": "unhashable type: 'list'",
          "output_type": "error",
          "traceback": [
            "\u001b[1;31m---------------------------------------------------------------------------\u001b[0m",
            "\u001b[1;31mTypeError\u001b[0m                                 Traceback (most recent call last)",
            "Cell \u001b[1;32mIn[32], line 2\u001b[0m\n\u001b[0;32m      1\u001b[0m my_list \u001b[38;5;241m=\u001b[39m [\u001b[38;5;241m8\u001b[39m,\u001b[38;5;241m7\u001b[39m]\n\u001b[1;32m----> 2\u001b[0m sum_list_dict \u001b[38;5;241m=\u001b[39m {my_list : \u001b[38;5;241m15\u001b[39m}\n",
            "\u001b[1;31mTypeError\u001b[0m: unhashable type: 'list'"
          ]
        }
      ],
      "source": [
        "# my_list = [8,7]\n",
        "# sum_list_dict = {my_list : 15} # Key cant be mutable"
      ]
    },
    {
      "cell_type": "code",
      "execution_count": null,
      "metadata": {},
      "outputs": [],
      "source": []
    }
  ],
  "metadata": {
    "colab": {
      "authorship_tag": "ABX9TyNkumguHeXgWl2+KxSc+rD7",
      "collapsed_sections": [],
      "include_colab_link": true,
      "name": "Python.ipynb",
      "provenance": [],
      "toc_visible": true
    },
    "kernelspec": {
      "display_name": "Python 3",
      "name": "python3"
    },
    "language_info": {
      "codemirror_mode": {
        "name": "ipython",
        "version": 3
      },
      "file_extension": ".py",
      "mimetype": "text/x-python",
      "name": "python",
      "nbconvert_exporter": "python",
      "pygments_lexer": "ipython3",
      "version": "3.12.3"
    }
  },
  "nbformat": 4,
  "nbformat_minor": 0
}

{
 "cells": [
  {
   "cell_type": "markdown",
   "metadata": {},
   "source": [
    "`*args` and `**kwargs` -> thaha chaina kati jana aaucha"
   ]
  },
  {
   "cell_type": "code",
   "execution_count": 1,
   "metadata": {},
   "outputs": [
    {
     "name": "stdout",
     "output_type": "stream",
     "text": [
      "('hello', 'from', 'the', 'other', 'side')\n"
     ]
    }
   ],
   "source": [
    "def fun(*args):\n",
    "    print(args)\n",
    "\n",
    "\n",
    "fun('hello', 'from', 'the', 'other', 'side')"
   ]
  },
  {
   "cell_type": "code",
   "execution_count": 16,
   "metadata": {},
   "outputs": [
    {
     "name": "stdout",
     "output_type": "stream",
     "text": [
      "('hello', 'from', 'the', 'other', 'side', {'a1': 'sung', 'a2': 'by', 'a3': 'Adele'})\n",
      "kwargs:nice\n",
      "kwargs:song\n"
     ]
    }
   ],
   "source": [
    "def fun(*args, **kwargs):\n",
    "    print(args)\n",
    "    for key, value in kwargs.items():\n",
    "        print(f'kwargs:{value}')\n",
    "\n",
    "\n",
    "fun('hello', 'from', 'the', 'other', 'side', {\n",
    "    'a1': 'sung', 'a2': 'by', 'a3': 'Adele'},\n",
    "    k1='nice', k2='song')"
   ]
  },
  {
   "cell_type": "code",
   "execution_count": 24,
   "metadata": {},
   "outputs": [
    {
     "name": "stdout",
     "output_type": "stream",
     "text": [
      "('hello', {'a1': 'sung', 'a2': 'by', 'a3': 'Adele'})\n",
      "('a1', 'a2', 'a3')\n",
      "('h', 'e', 'l', 'l', 'o')\n",
      "('h', 'e', 'l', 'l', 'o')\n",
      "kwargs:sung\n",
      "kwargs:by\n",
      "kwargs:Adele\n",
      "()\n",
      "kwargs:sung\n",
      "kwargs:by\n",
      "kwargs:Adele\n"
     ]
    }
   ],
   "source": [
    "myStr = 'hello'\n",
    "myDict = {\n",
    "    'a1': 'sung', 'a2': 'by', 'a3': 'Adele'}\n",
    "fun(myStr, myDict)\n",
    "fun(*myDict)\n",
    "fun(*myStr)\n",
    "fun(*myStr, **myDict)\n",
    "# fun(**myStr) # is an error\n",
    "fun(**myDict)"
   ]
  },
  {
   "cell_type": "code",
   "execution_count": 18,
   "metadata": {},
   "outputs": [
    {
     "name": "stdout",
     "output_type": "stream",
     "text": [
      "('a1', 'a2', 'a3')\n"
     ]
    }
   ],
   "source": [
    "fun(*myDict)\n",
    "# fun(**myDict)"
   ]
  },
  {
   "cell_type": "code",
   "execution_count": null,
   "metadata": {},
   "outputs": [],
   "source": []
  }
 ],
 "metadata": {
  "kernelspec": {
   "display_name": "Python 3",
   "language": "python",
   "name": "python3"
  },
  "language_info": {
   "codemirror_mode": {
    "name": "ipython",
    "version": 3
   },
   "file_extension": ".py",
   "mimetype": "text/x-python",
   "name": "python",
   "nbconvert_exporter": "python",
   "pygments_lexer": "ipython3",
   "version": "3.12.3"
  }
 },
 "nbformat": 4,
 "nbformat_minor": 2
}

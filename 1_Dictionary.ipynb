{
  "cells": [
    {
      "cell_type": "markdown",
      "metadata": {
        "colab_type": "text",
        "id": "view-in-github"
      },
      "source": [
        "<a href=\"https://colab.research.google.com/github/34-anish/Python/blob/main/2_Dictionary.ipynb\" target=\"_parent\"><img src=\"https://colab.research.google.com/assets/colab-badge.svg\" alt=\"Open In Colab\"/></a>"
      ]
    },
    {
      "cell_type": "markdown",
      "metadata": {
        "id": "KloqYFPBhC9N"
      },
      "source": [
        "# Dictionary \n"
      ]
    },
    {
      "cell_type": "code",
      "execution_count": 2,
      "metadata": {
        "id": "NOZSitEFhFqg"
      },
      "outputs": [],
      "source": [
        "countryCapital = {\n",
        "    'Nepal': 'Kathmandu',\n",
        "    'China': 'Bejing'\n",
        "}"
      ]
    },
    {
      "cell_type": "code",
      "execution_count": 4,
      "metadata": {},
      "outputs": [
        {
          "name": "stdout",
          "output_type": "stream",
          "text": [
            "Bejing\n",
            "dict_keys(['Nepal', 'China']) dict_values(['Kathmandu', 'Bejing']) dict_items([('Nepal', 'Kathmandu'), ('China', 'Bejing')])\n"
          ]
        }
      ],
      "source": [
        "# Accessing the capital\n",
        "print(countryCapital['China'])\n",
        "print(countryCapital.keys(), countryCapital.values(), countryCapital.items())"
      ]
    },
    {
      "cell_type": "markdown",
      "metadata": {},
      "source": [
        "# Looping in Dictionary"
      ]
    },
    {
      "cell_type": "markdown",
      "metadata": {
        "id": "IV3HqIR7iyBl"
      },
      "source": [
        ".items() is frequently used for looping"
      ]
    },
    {
      "cell_type": "code",
      "execution_count": 6,
      "metadata": {},
      "outputs": [
        {
          "name": "stdout",
          "output_type": "stream",
          "text": [
            "Nepal's capital is : Kathmandu\n",
            "China's capital is : Bejing\n"
          ]
        }
      ],
      "source": [
        "for country, capital in countryCapital.items():\n",
        "    print(f\"{country}'s capital is : {capital}\")"
      ]
    },
    {
      "cell_type": "markdown",
      "metadata": {},
      "source": [
        "## Adding & Deleting element "
      ]
    },
    {
      "cell_type": "code",
      "execution_count": 9,
      "metadata": {
        "id": "-jQgEX0fiGX9"
      },
      "outputs": [],
      "source": [
        "# To add and remove key value pair\n",
        "countryCapital['India'] = 'New Delhi'"
      ]
    },
    {
      "cell_type": "code",
      "execution_count": 10,
      "metadata": {
        "colab": {
          "base_uri": "https://localhost:8080/"
        },
        "id": "xf-lC5JHiJJW",
        "outputId": "f1531c19-a394-453a-b154-ed0a437cc12e"
      },
      "outputs": [
        {
          "data": {
            "text/plain": [
              "{'Nepal': 'Kathmandu', 'China': 'Bejing', 'India': 'New Delhi'}"
            ]
          },
          "execution_count": 10,
          "metadata": {},
          "output_type": "execute_result"
        }
      ],
      "source": [
        "countryCapital"
      ]
    },
    {
      "cell_type": "code",
      "execution_count": 12,
      "metadata": {
        "id": "xiKIKUuMiMUb"
      },
      "outputs": [],
      "source": [
        "del countryCapital['Nepal']"
      ]
    },
    {
      "cell_type": "code",
      "execution_count": 14,
      "metadata": {
        "colab": {
          "base_uri": "https://localhost:8080/"
        },
        "id": "Vyd72bhwiQWX",
        "outputId": "a3883b8c-28e2-41f5-d412-2713494007cb"
      },
      "outputs": [
        {
          "data": {
            "text/plain": [
              "{'China': 'Bejing', 'India': 'New Delhi'}"
            ]
          },
          "execution_count": 14,
          "metadata": {},
          "output_type": "execute_result"
        }
      ],
      "source": [
        "countryCapital"
      ]
    },
    {
      "cell_type": "markdown",
      "metadata": {},
      "source": [
        "# Searching"
      ]
    },
    {
      "cell_type": "markdown",
      "metadata": {
        "id": "Fc_oMvDsjA9D"
      },
      "source": [
        "**in** operator is used checking"
      ]
    },
    {
      "cell_type": "code",
      "execution_count": 15,
      "metadata": {},
      "outputs": [
        {
          "data": {
            "text/plain": [
              "True"
            ]
          },
          "execution_count": 15,
          "metadata": {},
          "output_type": "execute_result"
        }
      ],
      "source": [
        "'China' in countryCapital"
      ]
    },
    {
      "cell_type": "markdown",
      "metadata": {},
      "source": [
        "# Explaning more"
      ]
    },
    {
      "cell_type": "markdown",
      "metadata": {},
      "source": [
        "## Copying Dictionary\n",
        "*Be Careful*"
      ]
    },
    {
      "cell_type": "code",
      "execution_count": 20,
      "metadata": {},
      "outputs": [
        {
          "name": "stdout",
          "output_type": "stream",
          "text": [
            "{'China': 'Bejing', 'India': 'New Delhi', 'Nepal': 'Kathmandu'} {'China': 'Bejing', 'India': 'New Delhi', 'Nepal': 'Kathmandu'}\n",
            "{'China': 'Bejing', 'India': 'New Delhi', 'Nepal': 'Kathmandu'} {'China': 'Bejing', 'India': 'New Delhi', 'Nepal': 'Kathmandu'}\n",
            "{'China': 'Bejing', 'India': 'New Delhi', 'Nepal': 'Kathmandu', 'UK': 'London'} {'China': 'Bejing', 'India': 'New Delhi', 'Nepal': 'Kathmandu', 'UK': 'London'}\n"
          ]
        }
      ],
      "source": [
        "# countryDescription = dict('name' ='Nepal', age = 500) # an error\n",
        "countryDescription = dict(name='Nepal', age=500)\n",
        "countryDescription = countryCapital\n",
        "print(countryDescription, countryCapital)\n",
        "countryDescription['Nepal'] = 'Kathmandu'\n",
        "print(countryDescription, countryCapital)\n",
        "countryCapital['UK'] = 'London'\n",
        "print(countryDescription, countryCapital)"
      ]
    },
    {
      "cell_type": "code",
      "execution_count": 21,
      "metadata": {},
      "outputs": [
        {
          "data": {
            "text/plain": [
              "{'China': 'Bejing', 'India': 'New Delhi', 'Nepal': 'Kathmandu', 'UK': 'London'}"
            ]
          },
          "execution_count": 21,
          "metadata": {},
          "output_type": "execute_result"
        }
      ],
      "source": [
        "copiedCountry = countryCapital.copy()\n",
        "copiedCountry"
      ]
    },
    {
      "cell_type": "code",
      "execution_count": 22,
      "metadata": {},
      "outputs": [
        {
          "data": {
            "text/plain": [
              "({'China': 'Bejing',\n",
              "  'India': 'New Delhi',\n",
              "  'Nepal': 'Kathmandu',\n",
              "  'UK': 'London'},\n",
              " {'China': 'Bejing', 'India': 'New Delhi', 'Nepal': 'Kathmandu'})"
            ]
          },
          "execution_count": 22,
          "metadata": {},
          "output_type": "execute_result"
        }
      ],
      "source": [
        "# Deleting\n",
        "del countryCapital['UK']\n",
        "copiedCountry, countryCapital"
      ]
    },
    {
      "cell_type": "markdown",
      "metadata": {},
      "source": [
        "# Mutability"
      ]
    },
    {
      "cell_type": "code",
      "execution_count": 23,
      "metadata": {},
      "outputs": [],
      "source": [
        "countryCapital['Nepal'] = ' Bharatpur'"
      ]
    },
    {
      "cell_type": "code",
      "execution_count": 24,
      "metadata": {},
      "outputs": [
        {
          "data": {
            "text/plain": [
              "{'China': 'Bejing', 'India': 'New Delhi', 'Nepal': ' Bharatpur'}"
            ]
          },
          "execution_count": 24,
          "metadata": {},
          "output_type": "execute_result"
        }
      ],
      "source": [
        "countryCapital"
      ]
    },
    {
      "cell_type": "markdown",
      "metadata": {},
      "source": [
        "# Others"
      ]
    },
    {
      "cell_type": "markdown",
      "metadata": {},
      "source": [
        "`rams_dict = dict(name=\"Ram\",'age' = 24)` is an error  as of `'age'`\n"
      ]
    },
    {
      "cell_type": "code",
      "execution_count": 9,
      "metadata": {},
      "outputs": [
        {
          "data": {
            "text/plain": [
              "({'name': 'Alan', 'age': 22}, 22, {'name': 'Ram', 'age': 24})"
            ]
          },
          "execution_count": 9,
          "metadata": {},
          "output_type": "execute_result"
        }
      ],
      "source": [
        "alans_dict = {'name':'Alan','age':22}\n",
        "rams_dict = dict(name=\"Ram\",age = 24)\n",
        "alans_dict,alans_dict['age'],rams_dict"
      ]
    },
    {
      "cell_type": "code",
      "execution_count": null,
      "metadata": {},
      "outputs": [],
      "source": [
        "# rams_dict = dictionary(name=\"Ram\",age = 24) # Wrong Keyword"
      ]
    },
    {
      "cell_type": "code",
      "execution_count": 11,
      "metadata": {},
      "outputs": [
        {
          "data": {
            "text/plain": [
              "'Alan'"
            ]
          },
          "execution_count": 11,
          "metadata": {},
          "output_type": "execute_result"
        }
      ],
      "source": [
        "gunda = alans_dict['name']\n",
        "gunda"
      ]
    },
    {
      "cell_type": "code",
      "execution_count": 12,
      "metadata": {},
      "outputs": [
        {
          "data": {
            "text/plain": [
              "{'name': 'Aladin', 'age': 22}"
            ]
          },
          "execution_count": 12,
          "metadata": {},
          "output_type": "execute_result"
        }
      ],
      "source": [
        "alans_dict['name'] = 'Aladin'\n",
        "alans_dict"
      ]
    },
    {
      "cell_type": "code",
      "execution_count": 13,
      "metadata": {},
      "outputs": [],
      "source": [
        "del alans_dict"
      ]
    },
    {
      "cell_type": "code",
      "execution_count": 15,
      "metadata": {},
      "outputs": [
        {
          "data": {
            "text/plain": [
              "({'name': 'Ram', 'age': 24, 'marks': 40},\n",
              " {'name': 'Ram', 'age': 24, 'marks': 40})"
            ]
          },
          "execution_count": 15,
          "metadata": {},
          "output_type": "execute_result"
        }
      ],
      "source": [
        "aladins_dict = rams_dict\n",
        "aladins_dict['marks'] = 40\n",
        "aladins_dict,rams_dict"
      ]
    },
    {
      "cell_type": "code",
      "execution_count": 17,
      "metadata": {},
      "outputs": [],
      "source": [
        "aladins_marks = aladins_dict.popitem()"
      ]
    },
    {
      "cell_type": "code",
      "execution_count": 18,
      "metadata": {},
      "outputs": [
        {
          "data": {
            "text/plain": [
              "(('marks', 40), {'name': 'Ram', 'age': 24}, {'name': 'Ram', 'age': 24})"
            ]
          },
          "execution_count": 18,
          "metadata": {},
          "output_type": "execute_result"
        }
      ],
      "source": [
        "aladins_marks,aladins_dict,rams_dict"
      ]
    },
    {
      "cell_type": "code",
      "execution_count": 19,
      "metadata": {},
      "outputs": [
        {
          "name": "stdout",
          "output_type": "stream",
          "text": [
            "Ram\n"
          ]
        }
      ],
      "source": [
        "if 'name' in rams_dict:\n",
        "    print(rams_dict['name'])"
      ]
    },
    {
      "cell_type": "markdown",
      "metadata": {},
      "source": [
        "Looping"
      ]
    },
    {
      "cell_type": "markdown",
      "metadata": {},
      "source": [
        "```\n",
        "for item ,values in rams_dict:\n",
        "    print(item,values)\n",
        "```\n",
        "is an error"
      ]
    },
    {
      "cell_type": "code",
      "execution_count": 23,
      "metadata": {},
      "outputs": [
        {
          "name": "stdout",
          "output_type": "stream",
          "text": [
            "name\n",
            "age\n"
          ]
        }
      ],
      "source": [
        "for item in rams_dict:\n",
        "    print(item)\n"
      ]
    },
    {
      "cell_type": "code",
      "execution_count": 24,
      "metadata": {},
      "outputs": [
        {
          "name": "stdout",
          "output_type": "stream",
          "text": [
            "name\n",
            "age\n"
          ]
        }
      ],
      "source": [
        "for item in rams_dict.keys():\n",
        "    print(item)\n"
      ]
    },
    {
      "cell_type": "code",
      "execution_count": 25,
      "metadata": {},
      "outputs": [
        {
          "name": "stdout",
          "output_type": "stream",
          "text": [
            "Ram\n",
            "24\n"
          ]
        }
      ],
      "source": [
        "for value in rams_dict.values():\n",
        "    print(value)"
      ]
    },
    {
      "cell_type": "code",
      "execution_count": 27,
      "metadata": {},
      "outputs": [
        {
          "name": "stdout",
          "output_type": "stream",
          "text": [
            "name\n",
            "age\n"
          ]
        }
      ],
      "source": [
        "\n",
        "for (item,value) in rams_dict.items():\n",
        "    print(item)"
      ]
    },
    {
      "cell_type": "code",
      "execution_count": 28,
      "metadata": {},
      "outputs": [
        {
          "name": "stdout",
          "output_type": "stream",
          "text": [
            "('name', 'Ram')\n",
            "('age', 24)\n"
          ]
        }
      ],
      "source": [
        "\n",
        "for key_value_tuple in rams_dict.items():\n",
        "    print(key_value_tuple)"
      ]
    },
    {
      "cell_type": "code",
      "execution_count": 29,
      "metadata": {},
      "outputs": [
        {
          "data": {
            "text/plain": [
              "('Ram', {'age': 24}, {'name': 'Ram', 'age': 24})"
            ]
          },
          "execution_count": 29,
          "metadata": {},
          "output_type": "execute_result"
        }
      ],
      "source": [
        "copied_dict = rams_dict.copy()\n",
        "name = copied_dict.pop('name')\n",
        "name,copied_dict,rams_dict"
      ]
    },
    {
      "cell_type": "markdown",
      "metadata": {},
      "source": [
        "Key in Dictionary can only be iterable"
      ]
    },
    {
      "cell_type": "code",
      "execution_count": 33,
      "metadata": {},
      "outputs": [
        {
          "ename": "KeyError",
          "evalue": "'name'",
          "output_type": "error",
          "traceback": [
            "\u001b[1;31m---------------------------------------------------------------------------\u001b[0m",
            "\u001b[1;31mKeyError\u001b[0m                                  Traceback (most recent call last)",
            "Cell \u001b[1;32mIn[33], line 1\u001b[0m\n\u001b[1;32m----> 1\u001b[0m \u001b[43msum_dict\u001b[49m\u001b[43m[\u001b[49m\u001b[38;5;124;43m'\u001b[39;49m\u001b[38;5;124;43mname\u001b[39;49m\u001b[38;5;124;43m'\u001b[39;49m\u001b[43m]\u001b[49m\n",
            "\u001b[1;31mKeyError\u001b[0m: 'name'"
          ]
        }
      ],
      "source": [
        "# sum_dict['name'] # Keyvalue pair error"
      ]
    },
    {
      "cell_type": "code",
      "execution_count": 32,
      "metadata": {},
      "outputs": [
        {
          "ename": "TypeError",
          "evalue": "unhashable type: 'list'",
          "output_type": "error",
          "traceback": [
            "\u001b[1;31m---------------------------------------------------------------------------\u001b[0m",
            "\u001b[1;31mTypeError\u001b[0m                                 Traceback (most recent call last)",
            "Cell \u001b[1;32mIn[32], line 2\u001b[0m\n\u001b[0;32m      1\u001b[0m my_list \u001b[38;5;241m=\u001b[39m [\u001b[38;5;241m8\u001b[39m,\u001b[38;5;241m7\u001b[39m]\n\u001b[1;32m----> 2\u001b[0m sum_list_dict \u001b[38;5;241m=\u001b[39m {my_list : \u001b[38;5;241m15\u001b[39m}\n",
            "\u001b[1;31mTypeError\u001b[0m: unhashable type: 'list'"
          ]
        }
      ],
      "source": [
        "# my_list = [8,7]\n",
        "# sum_list_dict = {my_list : 15} # Key cant be mutable"
      ]
    },
    {
      "cell_type": "code",
      "execution_count": null,
      "metadata": {},
      "outputs": [],
      "source": []
    }
  ],
  "metadata": {
    "colab": {
      "authorship_tag": "ABX9TyNkumguHeXgWl2+KxSc+rD7",
      "collapsed_sections": [],
      "include_colab_link": true,
      "name": "Python.ipynb",
      "provenance": [],
      "toc_visible": true
    },
    "kernelspec": {
      "display_name": "Python 3",
      "name": "python3"
    },
    "language_info": {
      "codemirror_mode": {
        "name": "ipython",
        "version": 3
      },
      "file_extension": ".py",
      "mimetype": "text/x-python",
      "name": "python",
      "nbconvert_exporter": "python",
      "pygments_lexer": "ipython3",
      "version": "3.12.3"
    }
  },
  "nbformat": 4,
  "nbformat_minor": 0
}

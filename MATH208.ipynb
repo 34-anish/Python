{
  "nbformat": 4,
  "nbformat_minor": 0,
  "metadata": {
    "colab": {
      "name": "MATH208.ipynb",
      "provenance": [],
      "collapsed_sections": [],
      "toc_visible": true,
      "authorship_tag": "ABX9TyPoa4O+SS37VJWHsOxQGT1A",
      "include_colab_link": true
    },
    "kernelspec": {
      "name": "python3",
      "display_name": "Python 3"
    },
    "language_info": {
      "name": "python"
    }
  },
  "cells": [
    {
      "cell_type": "markdown",
      "metadata": {
        "id": "view-in-github",
        "colab_type": "text"
      },
      "source": [
        "<a href=\"https://colab.research.google.com/github/34-anish/Python/blob/master/MATH208.ipynb\" target=\"_parent\"><img src=\"https://colab.research.google.com/assets/colab-badge.svg\" alt=\"Open In Colab\"/></a>"
      ]
    },
    {
      "cell_type": "code",
      "metadata": {
        "id": "9KqGQa9vqZWO"
      },
      "source": [
        "import numpy as np\n",
        "import pandas as pd\n",
        "import scipy\n",
        "from scipy.stats import f\n",
        "from scipy.stats import chi2\n",
        "import math"
      ],
      "execution_count": 2,
      "outputs": []
    },
    {
      "cell_type": "markdown",
      "metadata": {
        "id": "o2OOHU-d6GOa"
      },
      "source": [
        "#For S"
      ]
    },
    {
      "cell_type": "code",
      "metadata": {
        "id": "7LQCWPeL00Kf"
      },
      "source": [
        "sample = np.array([8.8,8.8,12.5,12.2,5.4,13.3,12.8,6.9,9.1,2.2,14.7])\n",
        "sample_square=sample*sample"
      ],
      "execution_count": 3,
      "outputs": []
    },
    {
      "cell_type": "code",
      "metadata": {
        "colab": {
          "base_uri": "https://localhost:8080/"
        },
        "id": "Gfh3PTfSbStv",
        "outputId": "8d98e102-3fe8-4aed-d785-d5ba88134700"
      },
      "source": [
        "sample.sum()\n"
      ],
      "execution_count": 8,
      "outputs": [
        {
          "output_type": "execute_result",
          "data": {
            "text/plain": [
              "106.7"
            ]
          },
          "metadata": {},
          "execution_count": 8
        }
      ]
    },
    {
      "cell_type": "code",
      "metadata": {
        "colab": {
          "base_uri": "https://localhost:8080/"
        },
        "id": "k2gAqJy66br6",
        "outputId": "714768a5-0e29-418c-8cdd-c43a18c83291"
      },
      "source": [
        "sample.mean()"
      ],
      "execution_count": 4,
      "outputs": [
        {
          "output_type": "execute_result",
          "data": {
            "text/plain": [
              "9.700000000000001"
            ]
          },
          "metadata": {},
          "execution_count": 4
        }
      ]
    },
    {
      "cell_type": "code",
      "metadata": {
        "id": "c46rm8TV6MIw",
        "colab": {
          "base_uri": "https://localhost:8080/"
        },
        "outputId": "3fd18d33-d79a-450a-f0f4-d2886226733b"
      },
      "source": [
        "sample_square.sum()"
      ],
      "execution_count": 5,
      "outputs": [
        {
          "output_type": "execute_result",
          "data": {
            "text/plain": [
              "1181.21"
            ]
          },
          "metadata": {},
          "execution_count": 5
        }
      ]
    },
    {
      "cell_type": "code",
      "metadata": {
        "id": "gPtoVyMw5zHU",
        "colab": {
          "base_uri": "https://localhost:8080/",
          "height": 388
        },
        "outputId": "b2135077-2ca3-4862-b29c-59671503092f"
      },
      "source": [
        "d = {'X': sample, 'X^2' : pow(sample,2) }\n",
        "df = pd.DataFrame(data=d)\n",
        "df"
      ],
      "execution_count": 7,
      "outputs": [
        {
          "output_type": "execute_result",
          "data": {
            "text/html": [
              "<div>\n",
              "<style scoped>\n",
              "    .dataframe tbody tr th:only-of-type {\n",
              "        vertical-align: middle;\n",
              "    }\n",
              "\n",
              "    .dataframe tbody tr th {\n",
              "        vertical-align: top;\n",
              "    }\n",
              "\n",
              "    .dataframe thead th {\n",
              "        text-align: right;\n",
              "    }\n",
              "</style>\n",
              "<table border=\"1\" class=\"dataframe\">\n",
              "  <thead>\n",
              "    <tr style=\"text-align: right;\">\n",
              "      <th></th>\n",
              "      <th>X</th>\n",
              "      <th>X^2</th>\n",
              "    </tr>\n",
              "  </thead>\n",
              "  <tbody>\n",
              "    <tr>\n",
              "      <th>0</th>\n",
              "      <td>8.8</td>\n",
              "      <td>77.44</td>\n",
              "    </tr>\n",
              "    <tr>\n",
              "      <th>1</th>\n",
              "      <td>8.8</td>\n",
              "      <td>77.44</td>\n",
              "    </tr>\n",
              "    <tr>\n",
              "      <th>2</th>\n",
              "      <td>12.5</td>\n",
              "      <td>156.25</td>\n",
              "    </tr>\n",
              "    <tr>\n",
              "      <th>3</th>\n",
              "      <td>12.2</td>\n",
              "      <td>148.84</td>\n",
              "    </tr>\n",
              "    <tr>\n",
              "      <th>4</th>\n",
              "      <td>5.4</td>\n",
              "      <td>29.16</td>\n",
              "    </tr>\n",
              "    <tr>\n",
              "      <th>5</th>\n",
              "      <td>13.3</td>\n",
              "      <td>176.89</td>\n",
              "    </tr>\n",
              "    <tr>\n",
              "      <th>6</th>\n",
              "      <td>12.8</td>\n",
              "      <td>163.84</td>\n",
              "    </tr>\n",
              "    <tr>\n",
              "      <th>7</th>\n",
              "      <td>6.9</td>\n",
              "      <td>47.61</td>\n",
              "    </tr>\n",
              "    <tr>\n",
              "      <th>8</th>\n",
              "      <td>9.1</td>\n",
              "      <td>82.81</td>\n",
              "    </tr>\n",
              "    <tr>\n",
              "      <th>9</th>\n",
              "      <td>2.2</td>\n",
              "      <td>4.84</td>\n",
              "    </tr>\n",
              "    <tr>\n",
              "      <th>10</th>\n",
              "      <td>14.7</td>\n",
              "      <td>216.09</td>\n",
              "    </tr>\n",
              "  </tbody>\n",
              "</table>\n",
              "</div>"
            ],
            "text/plain": [
              "       X     X^2\n",
              "0    8.8   77.44\n",
              "1    8.8   77.44\n",
              "2   12.5  156.25\n",
              "3   12.2  148.84\n",
              "4    5.4   29.16\n",
              "5   13.3  176.89\n",
              "6   12.8  163.84\n",
              "7    6.9   47.61\n",
              "8    9.1   82.81\n",
              "9    2.2    4.84\n",
              "10  14.7  216.09"
            ]
          },
          "metadata": {},
          "execution_count": 7
        }
      ]
    },
    {
      "cell_type": "code",
      "metadata": {
        "id": "WVbcjHx86C0C"
      },
      "source": [
        ""
      ],
      "execution_count": null,
      "outputs": []
    },
    {
      "cell_type": "markdown",
      "metadata": {
        "id": "LGHavHsss6tb"
      },
      "source": [
        "#Lec 20 \n"
      ]
    },
    {
      "cell_type": "markdown",
      "metadata": {
        "id": "ugMDGU25tFIS"
      },
      "source": [
        "\n",
        "#When n1 , n2 is less than 30 and\n",
        "```\n",
        "#  variance is common\n",
        "```\n",
        "\n"
      ]
    },
    {
      "cell_type": "code",
      "metadata": {
        "id": "_xHXCrV698WK"
      },
      "source": [
        "# We use t table\n",
        "X1 = np.array([59,68,44,71,63,46,69,54,48])\n",
        "X2 = np.array([50,36,62,52,70,41])\n",
        "n1 = len(X1)\n",
        "n2 = len(X2)\n"
      ],
      "execution_count": 9,
      "outputs": []
    },
    {
      "cell_type": "code",
      "metadata": {
        "id": "cO6ylmO7t_HN",
        "colab": {
          "base_uri": "https://localhost:8080/",
          "height": 357
        },
        "outputId": "57f97002-a0b6-41c1-d9b7-ef15c7775404"
      },
      "source": [
        "d = {'X1': X1, 'X1^2' : pow(X1,2) }\n",
        "table_X1 = pd.DataFrame(data=d)\n",
        "table_X1.set_index('X1')"
      ],
      "execution_count": 10,
      "outputs": [
        {
          "output_type": "execute_result",
          "data": {
            "text/html": [
              "<div>\n",
              "<style scoped>\n",
              "    .dataframe tbody tr th:only-of-type {\n",
              "        vertical-align: middle;\n",
              "    }\n",
              "\n",
              "    .dataframe tbody tr th {\n",
              "        vertical-align: top;\n",
              "    }\n",
              "\n",
              "    .dataframe thead th {\n",
              "        text-align: right;\n",
              "    }\n",
              "</style>\n",
              "<table border=\"1\" class=\"dataframe\">\n",
              "  <thead>\n",
              "    <tr style=\"text-align: right;\">\n",
              "      <th></th>\n",
              "      <th>X1^2</th>\n",
              "    </tr>\n",
              "    <tr>\n",
              "      <th>X1</th>\n",
              "      <th></th>\n",
              "    </tr>\n",
              "  </thead>\n",
              "  <tbody>\n",
              "    <tr>\n",
              "      <th>59</th>\n",
              "      <td>3481</td>\n",
              "    </tr>\n",
              "    <tr>\n",
              "      <th>68</th>\n",
              "      <td>4624</td>\n",
              "    </tr>\n",
              "    <tr>\n",
              "      <th>44</th>\n",
              "      <td>1936</td>\n",
              "    </tr>\n",
              "    <tr>\n",
              "      <th>71</th>\n",
              "      <td>5041</td>\n",
              "    </tr>\n",
              "    <tr>\n",
              "      <th>63</th>\n",
              "      <td>3969</td>\n",
              "    </tr>\n",
              "    <tr>\n",
              "      <th>46</th>\n",
              "      <td>2116</td>\n",
              "    </tr>\n",
              "    <tr>\n",
              "      <th>69</th>\n",
              "      <td>4761</td>\n",
              "    </tr>\n",
              "    <tr>\n",
              "      <th>54</th>\n",
              "      <td>2916</td>\n",
              "    </tr>\n",
              "    <tr>\n",
              "      <th>48</th>\n",
              "      <td>2304</td>\n",
              "    </tr>\n",
              "  </tbody>\n",
              "</table>\n",
              "</div>"
            ],
            "text/plain": [
              "    X1^2\n",
              "X1      \n",
              "59  3481\n",
              "68  4624\n",
              "44  1936\n",
              "71  5041\n",
              "63  3969\n",
              "46  2116\n",
              "69  4761\n",
              "54  2916\n",
              "48  2304"
            ]
          },
          "metadata": {},
          "execution_count": 10
        }
      ]
    },
    {
      "cell_type": "code",
      "metadata": {
        "id": "_Z3gMsFKuBM2",
        "colab": {
          "base_uri": "https://localhost:8080/",
          "height": 265
        },
        "outputId": "68ea51d8-9f7a-4a65-a26a-a1ec699603f2"
      },
      "source": [
        "d2 = {'X2': X2, 'X2^2' : pow(X2,2) }\n",
        "table_X2 = pd.DataFrame(data=d2)\n",
        "table_X2.set_index('X2')"
      ],
      "execution_count": 11,
      "outputs": [
        {
          "output_type": "execute_result",
          "data": {
            "text/html": [
              "<div>\n",
              "<style scoped>\n",
              "    .dataframe tbody tr th:only-of-type {\n",
              "        vertical-align: middle;\n",
              "    }\n",
              "\n",
              "    .dataframe tbody tr th {\n",
              "        vertical-align: top;\n",
              "    }\n",
              "\n",
              "    .dataframe thead th {\n",
              "        text-align: right;\n",
              "    }\n",
              "</style>\n",
              "<table border=\"1\" class=\"dataframe\">\n",
              "  <thead>\n",
              "    <tr style=\"text-align: right;\">\n",
              "      <th></th>\n",
              "      <th>X2^2</th>\n",
              "    </tr>\n",
              "    <tr>\n",
              "      <th>X2</th>\n",
              "      <th></th>\n",
              "    </tr>\n",
              "  </thead>\n",
              "  <tbody>\n",
              "    <tr>\n",
              "      <th>50</th>\n",
              "      <td>2500</td>\n",
              "    </tr>\n",
              "    <tr>\n",
              "      <th>36</th>\n",
              "      <td>1296</td>\n",
              "    </tr>\n",
              "    <tr>\n",
              "      <th>62</th>\n",
              "      <td>3844</td>\n",
              "    </tr>\n",
              "    <tr>\n",
              "      <th>52</th>\n",
              "      <td>2704</td>\n",
              "    </tr>\n",
              "    <tr>\n",
              "      <th>70</th>\n",
              "      <td>4900</td>\n",
              "    </tr>\n",
              "    <tr>\n",
              "      <th>41</th>\n",
              "      <td>1681</td>\n",
              "    </tr>\n",
              "  </tbody>\n",
              "</table>\n",
              "</div>"
            ],
            "text/plain": [
              "    X2^2\n",
              "X2      \n",
              "50  2500\n",
              "36  1296\n",
              "62  3844\n",
              "52  2704\n",
              "70  4900\n",
              "41  1681"
            ]
          },
          "metadata": {},
          "execution_count": 11
        }
      ]
    },
    {
      "cell_type": "code",
      "metadata": {
        "colab": {
          "base_uri": "https://localhost:8080/"
        },
        "id": "m_DvIXnvh9cB",
        "outputId": "3f84ed7f-4c8a-4384-b999-9b4a4cac4ef0"
      },
      "source": [
        "X1_bar = table_X1['X1'].mean()\n",
        "X2_bar = table_X2['X2'].mean()\n",
        "\n",
        "X1_bar,X2_bar"
      ],
      "execution_count": 15,
      "outputs": [
        {
          "output_type": "execute_result",
          "data": {
            "text/plain": [
              "(58.0, 51.833333333333336)"
            ]
          },
          "metadata": {},
          "execution_count": 15
        }
      ]
    },
    {
      "cell_type": "code",
      "metadata": {
        "id": "sy5mzMYZuDow",
        "colab": {
          "base_uri": "https://localhost:8080/"
        },
        "outputId": "02b8373f-e27e-48b6-af3f-c7b888cefd97"
      },
      "source": [
        "sum_X1 = table_X1['X1'].sum()\n",
        "sum_X1_square = table_X1['X1^2'].sum()\n",
        "sum_X2 = table_X2['X2'].sum()\n",
        "sum_X2_square = table_X2['X2^2'].sum()\n",
        "sum_X1,sum_X1_square,sum_X2,sum_X2_square"
      ],
      "execution_count": 12,
      "outputs": [
        {
          "output_type": "execute_result",
          "data": {
            "text/plain": [
              "(522, 31148, 311, 16925)"
            ]
          },
          "metadata": {},
          "execution_count": 12
        }
      ]
    },
    {
      "cell_type": "code",
      "metadata": {
        "colab": {
          "base_uri": "https://localhost:8080/"
        },
        "id": "alJbY6L8h8w1",
        "outputId": "855d2c1c-1adb-4b86-82fe-22f07bac1124"
      },
      "source": [
        "S1_square = (n1/(n1-1))*(sum_X1_square/n1-X1_bar*X1_bar)\n",
        "S2_square = (n2/(n2-1))*(sum_X2_square/n2-X2_bar*X2_bar)\n",
        "\n",
        "S1_square,S2_square"
      ],
      "execution_count": 19,
      "outputs": [
        {
          "output_type": "execute_result",
          "data": {
            "text/plain": [
              "(108.99999999999977, 160.9666666666664)"
            ]
          },
          "metadata": {},
          "execution_count": 19
        }
      ]
    },
    {
      "cell_type": "markdown",
      "metadata": {
        "id": "vc7qLor7-AXH"
      },
      "source": [
        "#Lec 21\n"
      ]
    },
    {
      "cell_type": "code",
      "metadata": {
        "id": "q_1sg1SR-CKe"
      },
      "source": [
        ""
      ],
      "execution_count": null,
      "outputs": []
    },
    {
      "cell_type": "markdown",
      "metadata": {
        "id": "Awe7Y1pq-FuZ"
      },
      "source": [
        "# Inference on Difference in Means between Two Dependent Samples "
      ]
    },
    {
      "cell_type": "code",
      "metadata": {
        "id": "2TXhKQk1HtzQ"
      },
      "source": [
        "#Paired T-test\n",
        "before = np.array([45,73,46,124,33,57,83,34,26,17])\n",
        "after = np.array([36,60,44,119,35,51,77,29,24,11])\n",
        "n = len(before)\n"
      ],
      "execution_count": null,
      "outputs": []
    },
    {
      "cell_type": "code",
      "metadata": {
        "id": "DPeo99ZUH7lS"
      },
      "source": [
        "d = {'before': before, 'after' : after,'d':before-after,'d^2':pow((before-after),2) }\n",
        "table_diff= pd.DataFrame(data=d)\n",
        "table_diff"
      ],
      "execution_count": null,
      "outputs": []
    },
    {
      "cell_type": "code",
      "metadata": {
        "id": "cMI7ZXZUIx_1"
      },
      "source": [
        "sum_d = table_diff['d'].sum()\n",
        "sum_d_square = table_diff['d^2'].sum()"
      ],
      "execution_count": null,
      "outputs": []
    },
    {
      "cell_type": "code",
      "metadata": {
        "id": "inp7Z4nmIpLD"
      },
      "source": [
        "d_bar = 1/n*sum_d\n",
        "S_d_square = (n/(n-1))*(sum_d_square/n-pow((sum_d/n),2))\n",
        "S_d_square "
      ],
      "execution_count": null,
      "outputs": []
    },
    {
      "cell_type": "code",
      "metadata": {
        "id": "CmbJP2IuJkZv"
      },
      "source": [
        "#Test Statistic\n",
        "t_o = d_bar/math.sqrt(S_d_square/n)\n",
        "t_o\n"
      ],
      "execution_count": null,
      "outputs": []
    },
    {
      "cell_type": "markdown",
      "metadata": {
        "id": "sBT__RfLYTvi"
      },
      "source": [
        "#T_alpha,n-1 "
      ]
    },
    {
      "cell_type": "code",
      "metadata": {
        "id": "TrLq3IVAJ5he"
      },
      "source": [
        "alpha = 0.05/2\n",
        "n_minus = 14\n",
        "-scipy.stats.t.ppf(alpha,n_minus)"
      ],
      "execution_count": null,
      "outputs": []
    },
    {
      "cell_type": "markdown",
      "metadata": {
        "id": "gT0xxr7Fb9eA"
      },
      "source": [
        "#Chi Square"
      ]
    },
    {
      "cell_type": "code",
      "metadata": {
        "id": "P1VNmq26b8k0"
      },
      "source": [
        "scipy.stats.chi2(0.05, df=6)"
      ],
      "execution_count": null,
      "outputs": []
    },
    {
      "cell_type": "markdown",
      "metadata": {
        "id": "3e4fud_o98yI"
      },
      "source": [
        "# Lec.22\n"
      ]
    },
    {
      "cell_type": "markdown",
      "metadata": {
        "id": "FmHU7hHEqfTo"
      },
      "source": [
        "# Inference on ratio of variances of two normal populations"
      ]
    },
    {
      "cell_type": "code",
      "metadata": {
        "id": "eP9T3PrRqivi"
      },
      "source": [
        "X1 = np.array([15.8,12.7,13.2,16.9,10.6,18.8,11.1,14.3,17.0,12.5])\n",
        "n1 = len(X1)\n",
        "X2 = np.array([24.9,23.6,19.8,22.1,20.4,21.6,21.8,22.5])\n",
        "n2 = len(X2)"
      ],
      "execution_count": null,
      "outputs": []
    },
    {
      "cell_type": "code",
      "metadata": {
        "id": "8lhxtaqJrj_r"
      },
      "source": [
        "d = {'X1': X1, 'X1^2' : pow(X1,2) }\n",
        "table_X1 = pd.DataFrame(data=d)\n",
        "table_X1.set_index('X1')"
      ],
      "execution_count": null,
      "outputs": []
    },
    {
      "cell_type": "code",
      "metadata": {
        "id": "JdTjsfYMtboX"
      },
      "source": [
        "d2 = {'X2': X2, 'X2^2' : pow(X2,2) }\n",
        "table_X2 = pd.DataFrame(data=d2)\n",
        "table_X2.set_index('X2')"
      ],
      "execution_count": null,
      "outputs": []
    },
    {
      "cell_type": "code",
      "metadata": {
        "id": "Q1hlxgpGsc82"
      },
      "source": [
        "sum_X1 = table_X1['X1'].sum()\n",
        "sum_X1_square = table_X1['X1^2'].sum()\n",
        "sum_X2 = table_X2['X2'].sum()\n",
        "sum_X2_square = table_X2['X2^2'].sum()"
      ],
      "execution_count": null,
      "outputs": []
    },
    {
      "cell_type": "code",
      "metadata": {
        "id": "E6BMMhHDy13l"
      },
      "source": [
        "sum_X1,sum_X1_square,sum_X2,sum_X2_square"
      ],
      "execution_count": null,
      "outputs": []
    },
    {
      "cell_type": "code",
      "metadata": {
        "id": "r9eh6R4cuRnF"
      },
      "source": [
        "S1_square = (n1/(n1-1))*(sum_X1_square/n1-pow((sum_X1/n1),2))\n",
        "S2_square = (n2/(n2-1))*(sum_X2_square/n2-pow((sum_X2/n2),2))"
      ],
      "execution_count": null,
      "outputs": []
    },
    {
      "cell_type": "code",
      "metadata": {
        "id": "QMTdl3bKvHXO"
      },
      "source": [
        "S1_square,S2_square"
      ],
      "execution_count": null,
      "outputs": []
    },
    {
      "cell_type": "code",
      "metadata": {
        "id": "N2816PTrvxH-"
      },
      "source": [
        "test_statistic = S1_square/S2_square"
      ],
      "execution_count": null,
      "outputs": []
    },
    {
      "cell_type": "code",
      "metadata": {
        "id": "cKt80xmFzW7C"
      },
      "source": [
        "test_statistic"
      ],
      "execution_count": null,
      "outputs": []
    },
    {
      "cell_type": "code",
      "metadata": {
        "id": "-HXbw4gN1rmc"
      },
      "source": [
        "#For - one tailed test\n",
        "alpha =0.01\n",
        "right_critical_value = 1/scipy.stats.f.ppf(alpha, n2-1,n1-1)\n",
        "left_critical_value =  scipy.stats.f.ppf(alpha, n1-1,n2-1)\n",
        "right_critical_value,left_critical_value"
      ],
      "execution_count": null,
      "outputs": []
    },
    {
      "cell_type": "code",
      "metadata": {
        "id": "8H9HLUknwl26"
      },
      "source": [
        "#For -two tailed test\n",
        "alpha =0.02\n",
        "right_critical_value = 1/scipy.stats.f.ppf(alpha/2, n2-1,n1-1)\n",
        "left_critical_value =  scipy.stats.f.ppf(alpha/2, n1-1,n2-1)\n",
        "right_critical_value,left_critical_value"
      ],
      "execution_count": null,
      "outputs": []
    },
    {
      "cell_type": "markdown",
      "metadata": {
        "id": "S0K7XrKs4vLy"
      },
      "source": [
        "#to find F_alpha,n1-1,n2-1\n"
      ]
    },
    {
      "cell_type": "code",
      "metadata": {
        "id": "mfK6AMOf4YP4"
      },
      "source": [
        "ALPHA = 0.01 #()\n",
        "N1_minus1=8\n",
        "N2_minus1=12\n",
        "\n",
        "1/scipy.stats.f.ppf(ALPHA,N2_minus1,N1_minus1)"
      ],
      "execution_count": null,
      "outputs": []
    }
  ]
}